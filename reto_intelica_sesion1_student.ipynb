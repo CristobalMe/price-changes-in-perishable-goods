{
  "cells": [
    {
      "cell_type": "markdown",
      "id": "00e6607e",
      "metadata": {
        "id": "00e6607e"
      },
      "source": [
        "# TDA de Cambios en Precios y Oferta-Demanda de Productos Perecederos\n",
        "Author: A. Ramirez-Morales (andres.ramirez@tec.mx)\n",
        "\n",
        "\n",
        "En este notebook se implementa:\n",
        "1. Generación avanzada de datos con Monte Carlo\n",
        "2. Análisis TDA completo (homología persistente + Mapper)\n",
        "3. Detección de cambios estructurales con ventanas deslizantes y Takens embedding\n",
        "4. Modelos predictivos híbridos (TDA + ML)\n",
        "\n",
        "### 1. Importación de librerías"
      ]
    },
    {
      "cell_type": "code",
      "execution_count": 1,
      "id": "YOWrxMANynOv",
      "metadata": {
        "colab": {
          "base_uri": "https://localhost:8080/",
          "height": 1000
        },
        "collapsed": true,
        "id": "YOWrxMANynOv",
        "outputId": "dd8caa17-4d71-4782-ba88-1c425fbed827"
      },
      "outputs": [
        {
          "name": "stdout",
          "output_type": "stream",
          "text": [
            "Requirement already satisfied: giotto-tda in c:\\users\\delca\\anaconda3\\envs\\topologia\\lib\\site-packages (0.6.2)\n",
            "Requirement already satisfied: numpy>=1.19.1 in c:\\users\\delca\\anaconda3\\envs\\topologia\\lib\\site-packages (from giotto-tda) (1.26.4)\n",
            "Requirement already satisfied: scipy>=1.5.0 in c:\\users\\delca\\anaconda3\\envs\\topologia\\lib\\site-packages (from giotto-tda) (1.14.1)\n",
            "Requirement already satisfied: joblib>=0.16.0 in c:\\users\\delca\\anaconda3\\envs\\topologia\\lib\\site-packages (from giotto-tda) (1.4.2)\n",
            "Requirement already satisfied: scikit-learn==1.3.2 in c:\\users\\delca\\anaconda3\\envs\\topologia\\lib\\site-packages (from giotto-tda) (1.3.2)\n",
            "Requirement already satisfied: giotto-ph>=0.2.1 in c:\\users\\delca\\anaconda3\\envs\\topologia\\lib\\site-packages (from giotto-tda) (0.2.4)\n",
            "Requirement already satisfied: pyflagser>=0.4.3 in c:\\users\\delca\\anaconda3\\envs\\topologia\\lib\\site-packages (from giotto-tda) (0.4.7)\n",
            "Requirement already satisfied: igraph>=0.9.8 in c:\\users\\delca\\anaconda3\\envs\\topologia\\lib\\site-packages (from giotto-tda) (0.11.8)\n",
            "Requirement already satisfied: plotly>=4.8.2 in c:\\users\\delca\\anaconda3\\envs\\topologia\\lib\\site-packages (from giotto-tda) (5.24.1)\n",
            "Requirement already satisfied: ipywidgets>=7.5.1 in c:\\users\\delca\\anaconda3\\envs\\topologia\\lib\\site-packages (from giotto-tda) (8.1.5)\n",
            "Requirement already satisfied: threadpoolctl>=2.0.0 in c:\\users\\delca\\anaconda3\\envs\\topologia\\lib\\site-packages (from scikit-learn==1.3.2->giotto-tda) (3.5.0)\n",
            "Requirement already satisfied: texttable>=1.6.2 in c:\\users\\delca\\anaconda3\\envs\\topologia\\lib\\site-packages (from igraph>=0.9.8->giotto-tda) (1.7.0)\n",
            "Requirement already satisfied: comm>=0.1.3 in c:\\users\\delca\\anaconda3\\envs\\topologia\\lib\\site-packages (from ipywidgets>=7.5.1->giotto-tda) (0.2.2)\n",
            "Requirement already satisfied: ipython>=6.1.0 in c:\\users\\delca\\anaconda3\\envs\\topologia\\lib\\site-packages (from ipywidgets>=7.5.1->giotto-tda) (8.32.0)\n",
            "Requirement already satisfied: traitlets>=4.3.1 in c:\\users\\delca\\anaconda3\\envs\\topologia\\lib\\site-packages (from ipywidgets>=7.5.1->giotto-tda) (5.14.3)\n",
            "Requirement already satisfied: widgetsnbextension~=4.0.12 in c:\\users\\delca\\anaconda3\\envs\\topologia\\lib\\site-packages (from ipywidgets>=7.5.1->giotto-tda) (4.0.13)\n",
            "Requirement already satisfied: jupyterlab-widgets~=3.0.12 in c:\\users\\delca\\anaconda3\\envs\\topologia\\lib\\site-packages (from ipywidgets>=7.5.1->giotto-tda) (3.0.13)\n",
            "Requirement already satisfied: tenacity>=6.2.0 in c:\\users\\delca\\anaconda3\\envs\\topologia\\lib\\site-packages (from plotly>=4.8.2->giotto-tda) (9.0.0)\n",
            "Requirement already satisfied: packaging in c:\\users\\delca\\anaconda3\\envs\\topologia\\lib\\site-packages (from plotly>=4.8.2->giotto-tda) (24.2)\n",
            "Requirement already satisfied: colorama in c:\\users\\delca\\anaconda3\\envs\\topologia\\lib\\site-packages (from ipython>=6.1.0->ipywidgets>=7.5.1->giotto-tda) (0.4.6)\n",
            "Requirement already satisfied: decorator in c:\\users\\delca\\anaconda3\\envs\\topologia\\lib\\site-packages (from ipython>=6.1.0->ipywidgets>=7.5.1->giotto-tda) (5.1.1)\n",
            "Requirement already satisfied: jedi>=0.16 in c:\\users\\delca\\anaconda3\\envs\\topologia\\lib\\site-packages (from ipython>=6.1.0->ipywidgets>=7.5.1->giotto-tda) (0.19.2)\n",
            "Requirement already satisfied: matplotlib-inline in c:\\users\\delca\\anaconda3\\envs\\topologia\\lib\\site-packages (from ipython>=6.1.0->ipywidgets>=7.5.1->giotto-tda) (0.1.7)\n",
            "Requirement already satisfied: prompt_toolkit<3.1.0,>=3.0.41 in c:\\users\\delca\\anaconda3\\envs\\topologia\\lib\\site-packages (from ipython>=6.1.0->ipywidgets>=7.5.1->giotto-tda) (3.0.50)\n",
            "Requirement already satisfied: pygments>=2.4.0 in c:\\users\\delca\\anaconda3\\envs\\topologia\\lib\\site-packages (from ipython>=6.1.0->ipywidgets>=7.5.1->giotto-tda) (2.19.1)\n",
            "Requirement already satisfied: stack_data in c:\\users\\delca\\anaconda3\\envs\\topologia\\lib\\site-packages (from ipython>=6.1.0->ipywidgets>=7.5.1->giotto-tda) (0.6.3)\n",
            "Requirement already satisfied: parso<0.9.0,>=0.8.4 in c:\\users\\delca\\anaconda3\\envs\\topologia\\lib\\site-packages (from jedi>=0.16->ipython>=6.1.0->ipywidgets>=7.5.1->giotto-tda) (0.8.4)\n",
            "Requirement already satisfied: wcwidth in c:\\users\\delca\\anaconda3\\envs\\topologia\\lib\\site-packages (from prompt_toolkit<3.1.0,>=3.0.41->ipython>=6.1.0->ipywidgets>=7.5.1->giotto-tda) (0.2.13)\n",
            "Requirement already satisfied: executing>=1.2.0 in c:\\users\\delca\\anaconda3\\envs\\topologia\\lib\\site-packages (from stack_data->ipython>=6.1.0->ipywidgets>=7.5.1->giotto-tda) (2.2.0)\n",
            "Requirement already satisfied: asttokens>=2.1.0 in c:\\users\\delca\\anaconda3\\envs\\topologia\\lib\\site-packages (from stack_data->ipython>=6.1.0->ipywidgets>=7.5.1->giotto-tda) (3.0.0)\n",
            "Requirement already satisfied: pure-eval in c:\\users\\delca\\anaconda3\\envs\\topologia\\lib\\site-packages (from stack_data->ipython>=6.1.0->ipywidgets>=7.5.1->giotto-tda) (0.2.3)\n",
            "Requirement already satisfied: imblearn in c:\\users\\delca\\anaconda3\\envs\\topologia\\lib\\site-packages (0.0)\n",
            "Requirement already satisfied: imbalanced-learn in c:\\users\\delca\\anaconda3\\envs\\topologia\\lib\\site-packages (from imblearn) (0.13.0)\n",
            "Requirement already satisfied: numpy<3,>=1.24.3 in c:\\users\\delca\\anaconda3\\envs\\topologia\\lib\\site-packages (from imbalanced-learn->imblearn) (1.26.4)\n",
            "Requirement already satisfied: scipy<2,>=1.10.1 in c:\\users\\delca\\anaconda3\\envs\\topologia\\lib\\site-packages (from imbalanced-learn->imblearn) (1.14.1)\n",
            "Requirement already satisfied: scikit-learn<2,>=1.3.2 in c:\\users\\delca\\anaconda3\\envs\\topologia\\lib\\site-packages (from imbalanced-learn->imblearn) (1.3.2)\n",
            "Requirement already satisfied: sklearn-compat<1,>=0.1 in c:\\users\\delca\\anaconda3\\envs\\topologia\\lib\\site-packages (from imbalanced-learn->imblearn) (0.1.3)\n",
            "Requirement already satisfied: joblib<2,>=1.1.1 in c:\\users\\delca\\anaconda3\\envs\\topologia\\lib\\site-packages (from imbalanced-learn->imblearn) (1.4.2)\n",
            "Requirement already satisfied: threadpoolctl<4,>=2.0.0 in c:\\users\\delca\\anaconda3\\envs\\topologia\\lib\\site-packages (from imbalanced-learn->imblearn) (3.5.0)\n"
          ]
        }
      ],
      "source": [
        "!pip install giotto-tda\n",
        "!pip install imblearn"
      ]
    },
    {
      "cell_type": "code",
      "execution_count": 2,
      "id": "cf810c56",
      "metadata": {
        "id": "cf810c56"
      },
      "outputs": [],
      "source": [
        "import numpy as np\n",
        "import pandas as pd\n",
        "import matplotlib.pyplot as plt\n",
        "from sklearn.preprocessing import MinMaxScaler\n",
        "from sklearn.ensemble import RandomForestClassifier\n",
        "from sklearn.model_selection import train_test_split\n",
        "from sklearn.metrics import classification_report\n",
        "from gtda.homology import VietorisRipsPersistence\n",
        "from gtda.plotting import plot_diagram\n",
        "from gtda.mapper import (\n",
        "    make_mapper_pipeline,\n",
        "    Projection,\n",
        "    plot_static_mapper_graph\n",
        ")\n",
        "from sklearn.cluster import DBSCAN\n",
        "from imblearn.over_sampling import SMOTE\n",
        "import networkx as nx\n",
        "np.random.seed(42)\n",
        "plt.style.use('ggplot')"
      ]
    },
    {
      "cell_type": "markdown",
      "id": "a8770606",
      "metadata": {
        "id": "a8770606"
      },
      "source": [
        "### 2. Generación de datos\n",
        "\n",
        "Actividades/preguntas:\n",
        "1. Definir los siguientes conceptos: producto perecedero, evento de mercado, brokers, estrategia de broker, tipos de estrageias de broker, variables climaticas, estacionalidad, calidad de producto, elasticidad cruzada\n",
        "2. Comentar (describir) las líneas más importantes y escribir documentación adecuada para la clase `DatosAgricolas`\n",
        "3. En la clase `DatosAgricolas` hay varios parámetros que usted puede ajustar, identifíquelos e interprete ssu efecto en los datos.\n",
        "4. Describa el outcome que espera de la clase `DatosAgricolas`\n",
        "5. Discuta cualesquiera otras informaciones en `DataAgricolas` que puedan ser relevantes."
      ]
    },
    {
      "cell_type": "code",
      "execution_count": null,
      "id": "ecb9fd54",
      "metadata": {
        "id": "ecb9fd54"
      },
      "outputs": [],
      "source": [
        "class DatosAgricolas:\n",
        "    \"\"\"\n",
        "    Simulación de datos para productos agrícolas perecederos\n",
        "    con eventos de mercado, comportamientos de brokers y variables climáticas.\n",
        "    \"\"\"\n",
        "    def __init__(self, n_dias=1000):\n",
        "        self.n_dias = n_dias\n",
        "        self.fechas = pd.date_range(start=\"2023-01-01\", periods=n_dias, freq='D')\n",
        "        self.df = None\n",
        "        self.eventos = None\n",
        "\n",
        "    def generar_base(self):\n",
        "        \"\"\"\n",
        "        Genera datos base para los productos\n",
        "        \"\"\"\n",
        "        # precios base con tendencias estacionales\n",
        "        tiempo = np.linspace(0, 10, self.n_dias)\n",
        "        estacionalidad = np.sin(2 * np.pi * tiempo / 365) * 0.2 # Se espera un comportamiento repetitivo \n",
        "\n",
        "        # frambuesa - producto altamente perecedero\n",
        "        precio_frambuesa = np.exp(np.random.normal(2 + estacionalidad, 0.3))\n",
        "        volumen_frambuesa = np.random.normal(500, 100) + np.random.normal(0, 50) * estacionalidad\n",
        "\n",
        "        # aguacate - menos perecedero\n",
        "        precio_aguacate = np.exp(np.random.normal(2.5 + estacionalidad*0.5, 0.2))\n",
        "        volumen_aguacate = np.random.normal(800, 150) - np.random.normal(0, 70) * estacionalidad\n",
        "\n",
        "        # chile seco - producto estable\n",
        "        precio_chile = np.exp(np.random.normal(2.2, 0.15))\n",
        "        volumen_chile = np.random.normal(300, 50)\n",
        "\n",
        "        # variables climáticas\n",
        "        # Se toma una medición promedio a la cual se le agregan variaciones normales a lo largo del tiempo \n",
        "        temperatura = 25 + 10 * np.sin(2 * np.pi * tiempo / 365) + np.random.normal(0, 3)\n",
        "        humedad = 60 + 20 * np.sin(2 * np.pi * tiempo / 365 + np.pi/2) + np.random.normal(0, 5)\n",
        "\n",
        "        # calidad (depende de temperatura y humedad)\n",
        "        # Establece un límite para los valores en la calidad\n",
        "        calidad_frambuesa = np.clip(0.9 - 0.005*(temperatura-25)**2 - 0.002*(humedad-70)**2 + np.random.normal(0, 0.05), 0.5, 1.0)\n",
        "        calidad_aguacate = np.clip(0.95 - 0.003*(temperatura-22)**2 + np.random.normal(0, 0.03), 0.7, 1.0)\n",
        "        calidad_chile = np.clip(0.85 - 0.001*(humedad-50)**2 + np.random.normal(0, 0.04), 0.6, 1.0)\n",
        "\n",
        "        # datos sin modificaciones de brokers\n",
        "        datos = {\n",
        "            'fecha': self.fechas,\n",
        "            'precio_frambuesa': precio_frambuesa,\n",
        "            'volumen_frambuesa': volumen_frambuesa,\n",
        "            'calidad_frambuesa': calidad_frambuesa,\n",
        "            'precio_aguacate': precio_aguacate,\n",
        "            'volumen_aguacate': volumen_aguacate,\n",
        "            'calidad_aguacate': calidad_aguacate,\n",
        "            'precio_chile': precio_chile,\n",
        "            'volumen_chile': volumen_chile,\n",
        "            'calidad_chile': calidad_chile,\n",
        "            'temperatura': temperatura,\n",
        "            'humedad': humedad,\n",
        "        }\n",
        "\n",
        "        return pd.DataFrame(datos)\n",
        "\n",
        "    def agregar_eventos_mercado(self, df):\n",
        "        \"\"\"\n",
        "        Agrega eventos de mercado simulados\n",
        "        \"\"\"\n",
        "        eventos = np.zeros(self.n_dias)\n",
        "\n",
        "        # frambuesa (perecedero)\n",
        "        for i in range(100, self.n_dias, 180):\n",
        "            duracion = np.random.randint(5, 15)\n",
        "            intensidad = np.random.uniform(0.4, 0.7)\n",
        "\n",
        "            df.loc[i:i+duracion, 'precio_frambuesa'] *= intensidad\n",
        "            df.loc[i:i+duracion, 'volumen_frambuesa'] *= np.random.uniform(1.2, 1.8)\n",
        "            eventos[i:i+duracion] = 1  # Evento tipo 1: sobreoferta\n",
        "\n",
        "        # aguacate (especulación)\n",
        "        for i in range(150, self.n_dias, 220):\n",
        "            duracion = np.random.randint(10, 20)\n",
        "            intensidad = np.random.uniform(1.3, 1.8)\n",
        "\n",
        "            df.loc[i:i+duracion, 'precio_aguacate'] *= intensidad\n",
        "            df.loc[i:i+duracion, 'volumen_aguacate'] *= np.random.uniform(0.6, 0.9)\n",
        "            eventos[i:i+duracion] = 2  # Evento tipo 2: especulación\n",
        "\n",
        "        # climáticos extremos\n",
        "        for i in range(200, self.n_dias, 300):\n",
        "            duracion = np.random.randint(7, 14)\n",
        "\n",
        "            df.loc[i:i+duracion, 'temperatura'] += np.random.uniform(5, 10)\n",
        "            df.loc[i:i+duracion, 'humedad'] -= np.random.uniform(15, 25)\n",
        "            eventos[i:i+duracion] = 3  # Evento tipo 3: clima extremo\n",
        "\n",
        "        return df, eventos\n",
        "\n",
        "    def simular_comportamiento_brokers(self, df):\n",
        "        \"\"\"\n",
        "        Simula el comportamiento estratégico de brokers\n",
        "        \"\"\"\n",
        "        # estrategias de brokers basadas en condiciones de mercado\n",
        "        df['estrategia_broker'] = 'neutral'\n",
        "\n",
        "        # identificar condiciones para diferentes estrategias\n",
        "        mask_sobreoferta = (df['precio_frambuesa'].pct_change(5) < -0.15)\n",
        "        mask_especulacion = (df['precio_aguacate'].pct_change(5) > 0.2)\n",
        "        mask_clima_extremo = (df['temperatura'] > 32) | (df['humedad'] < 40)\n",
        "\n",
        "        df.loc[mask_sobreoferta, 'estrategia_broker'] = 'liquidacion'\n",
        "        df.loc[mask_especulacion, 'estrategia_broker'] = 'acaparamiento'\n",
        "        df.loc[mask_clima_extremo, 'estrategia_broker'] = 'precaucion'\n",
        "\n",
        "        return df\n",
        "\n",
        "    def generar_datos(self):\n",
        "        \"\"\"\n",
        "        Genera el conjunto completo de datos simulados\n",
        "        \"\"\"\n",
        "        df = self.generar_base()\n",
        "        df, eventos = self.agregar_eventos_mercado(df)\n",
        "        df = self.simular_comportamiento_brokers(df)\n",
        "\n",
        "        # agregar elasticidad cruzada simulada\n",
        "        df['precio_fresa'] = df['precio_frambuesa'] * np.random.uniform(0.8, 1.2)\n",
        "        df.loc[df['precio_frambuesa'] > df['precio_frambuesa'].quantile(0.8), 'precio_fresa'] *= 1.1\n",
        "\n",
        "        self.df = df\n",
        "        self.eventos = eventos\n",
        "        return df, eventos"
      ]
    },
    {
      "cell_type": "markdown",
      "id": "97dfc0da",
      "metadata": {
        "id": "97dfc0da"
      },
      "source": [
        "### 2.1 Genear y visualizar datos\n",
        "\n",
        "Actividades/preguntas:\n",
        "1. Genere los datos y guardélos en una base de datos con formato csv.\n",
        "2. Grafique los datos más relevantes a su consideración.\n",
        "3. Juegue con los parámetros que considere mas relvantes dentro de la clase `DatosAgricolas`\n",
        "4. Dé una interpretación\n"
      ]
    },
    {
      "cell_type": "code",
      "execution_count": null,
      "id": "d35b07cc",
      "metadata": {
        "id": "d35b07cc"
      },
      "outputs": [],
      "source": []
    },
    {
      "cell_type": "code",
      "execution_count": null,
      "id": "27c1d7ec",
      "metadata": {
        "id": "27c1d7ec"
      },
      "outputs": [],
      "source": []
    }
  ],
  "metadata": {
    "colab": {
      "provenance": []
    },
    "kernelspec": {
      "display_name": "topologia",
      "language": "python",
      "name": "python3"
    },
    "language_info": {
      "codemirror_mode": {
        "name": "ipython",
        "version": 3
      },
      "file_extension": ".py",
      "mimetype": "text/x-python",
      "name": "python",
      "nbconvert_exporter": "python",
      "pygments_lexer": "ipython3",
      "version": "3.12.8"
    }
  },
  "nbformat": 4,
  "nbformat_minor": 5
}
