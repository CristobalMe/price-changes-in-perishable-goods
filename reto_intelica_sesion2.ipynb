{
 "cells": [
  {
   "cell_type": "markdown",
   "id": "00e6607e",
   "metadata": {},
   "source": [
    "# TDA de Cambios en Precios y Oferta-Demanda de Productos Perecederos\n",
    "Author: A. Ramirez-Morales (andres.ramirez@tec.mx)\n",
    "\n",
    "\n",
    "En este notebook se implementa:\n",
    "1. Generación avanzada de datos con Monte Carlo\n",
    "2. Análisis TDA completo (homología persistente + Mapper)\n",
    "3. Detección de cambios estructurales con ventanas deslizantes y Takens embedding\n",
    "4. Modelos predictivos híbridos (TDA + ML)\n",
    "\n",
    "### 1. Importación de librerías"
   ]
  },
  {
   "cell_type": "code",
<<<<<<< Updated upstream
   "execution_count": 1,
=======
   "execution_count": 2,
>>>>>>> Stashed changes
   "id": "cf810c56",
   "metadata": {},
   "outputs": [],
   "source": [
    "import numpy as np\n",
    "import pandas as pd\n",
    "import matplotlib.pyplot as plt\n",
    "from sklearn.preprocessing import MinMaxScaler\n",
    "from sklearn.ensemble import RandomForestClassifier\n",
    "from sklearn.model_selection import train_test_split\n",
    "from sklearn.metrics import classification_report\n",
    "from gtda.homology import VietorisRipsPersistence\n",
    "from gtda.plotting import plot_diagram\n",
    "from gtda.mapper import (\n",
    "    make_mapper_pipeline,\n",
    "    Projection,\n",
    "    plot_static_mapper_graph\n",
    ")\n",
    "from sklearn.cluster import DBSCAN\n",
    "from imblearn.over_sampling import SMOTE\n",
    "import networkx as nx\n",
    "np.random.seed(42)\n",
    "plt.style.use('ggplot')"
   ]
  },
  {
   "cell_type": "markdown",
   "id": "a8770606",
   "metadata": {},
   "source": [
    "### 1. Generación de datos\n",
    "\n",
    "Actividades/preguntas:\n",
    "1. Definir los siguientes conceptos: producto perecedero, evento de mercado, brokers, estrategia de broker, tipos de estrageias de broker, variables climaticas, estacionalidad, calidad de producto, elasticidad cruzada\n",
    "2. Comentar (describir) las líneas más importantes y escribir documentación adecuada para la clase `DatosAgricolas`\n",
    "3. En la clase `DatosAgricolas` hay varios parámetros que usted puede ajustar, identifíquelos e interprete ssu efecto en los datos.\n",
    "4. Describa el outcome que espera de la clase `DatosAgricolas`\n",
    "5. Discuta cualesquiera otras informaciones en `DataAgricolas` que puedan ser relevantes.\n",
    "\n",
    "Explicación del código:\n",
    "\n"
   ]
  },
  {
   "cell_type": "code",
   "execution_count": 3,
   "id": "ecb9fd54",
   "metadata": {},
   "outputs": [],
   "source": [
    "import random\n",
    "import time \n",
    "\n",
    "class DatosAgricolas:\n",
    "    \"\"\"\n",
    "    Simulación de datos para productos agrícolas perecederos\n",
    "    con eventos de mercado, comportamientos de brokers y variables climáticas.\n",
    "    \"\"\"\n",
    "    def __init__(self, params, n_dias=1000, factor=1000,  interesante=True, rseed = 42 ):\n",
    "        self.n_dias = n_dias\n",
    "        self.fechas = pd.date_range(start=\"2023-01-01\", periods=n_dias, freq='D')\n",
    "        self.df = None\n",
    "        self.rseed = rseed\n",
    "        self.eventos = None\n",
    "        self.interesante = interesante\n",
    "        # frambuesa data\n",
    "        self.m_precio_frambuesa = params['precio_frambuesa']/factor\n",
    "        self.m_precio_frambuesa_var = params['precio_frambuesa_var']/factor\n",
    "        self.m_volumen_frambuesa = params['volumen_frambuesa']/factor\n",
    "        self.m_volumen_frambuesa_var = params['volumen_frambuesa_var']/factor\n",
    "        # aguacate data\n",
    "        self.m_precio_aguacate = params['precio_aguacate']/factor\n",
    "        self.m_precio_aguacate_var = params['precio_aguacate_var']/factor\n",
    "        self.m_volumen_aguacate = params['volumen_aguacate']/factor\n",
    "        self.m_volumen_aguacate_var = params['volumen_aguacate_var']/factor\n",
    "        # chile data\n",
    "        self.m_precio_chile = params['precio_chile']/factor\n",
    "        self.m_precio_chile_var = params['precio_chile_var']/factor\n",
    "        self.m_volumen_chile = params['volumen_chile']/factor\n",
    "        self.m_volumen_chile_var = params['volumen_chile_var']/factor\n",
    "\n",
    "       \n",
    "    def generar_base(self):\n",
    "        \"\"\"\n",
    "        Genera datos base para los productos\n",
    "        \"\"\"\n",
    "        np.random.seed(self.rseed)\n",
    "        # precios base con tendencias estacionales\n",
    "        tiempo = np.linspace(0, 10, self.n_dias)\n",
    "        estacionalidad = np.sin(2 * np.pi * tiempo / 365) * 0.2\n",
    "\n",
    "        # variables climáticas, que cambiarán la calidad de la fruta\n",
    "        temperatura = 25 + 10 * np.sin(2 * np.pi * tiempo / 365) + np.random.normal(0, 3)\n",
    "        humedad = 60 + 20 * np.sin(2 * np.pi * tiempo / 365 + np.pi/2) + np.random.normal(0, 5)\n",
    "        \n",
    "        # frambuesa - producto altamente perecedero\n",
    "        # aqui hice el cambio para que no haya ruido y solo un cambio estacional simulado con una funcion sin(x)\n",
    "        precio_frambuesa  = self.m_precio_frambuesa * np.sin(tiempo*2*np.pi) # np.exp(np.random.normal(self.m_precio_frambuesa + estacionalidad, self.m_precio_frambuesa_var, size=self.n_dias))\n",
    "        volumen_frambuesa = np.random.normal(self.m_volumen_frambuesa, self.m_volumen_frambuesa_var, size=self.n_dias) + np.random.normal(0, 50) * estacionalidad\n",
    "        calidad_frambuesa = np.clip(0.9 - 0.005*(temperatura-25)**2 - 0.002*(humedad-70)**2 + np.random.normal(0, 0.05), 0.5, 1.0)\n",
    "\n",
    "        # aguacate - menos perecedero\n",
    "        precio_aguacate = np.exp(np.random.normal(self.m_precio_aguacate + estacionalidad*0.5, self.m_precio_aguacate_var, size=self.n_dias))\n",
    "        volumen_aguacate = np.random.normal(self.m_volumen_aguacate, self.m_volumen_aguacate_var, size=self.n_dias) - np.random.normal(0, 70) * estacionalidad\n",
    "        calidad_aguacate = np.clip(0.95 - 0.003*(temperatura-22)**2 + np.random.normal(0, 0.03), 0.7, 1.0)\n",
    "        \n",
    "        # chile seco - producto estable\n",
    "        precio_chile = np.exp(np.random.normal(self.m_precio_chile + estacionalidad*0.001, self.m_precio_chile_var, size=self.n_dias))\n",
    "        volumen_chile = np.random.normal(self.m_volumen_chile, self.m_volumen_chile_var, size=self.n_dias)\n",
    "        calidad_chile = np.clip(0.85 - 0.001*(humedad-50)**2 + np.random.normal(0, 0.04), 0.6, 1.0)\n",
    "                \n",
    "        # datos sin modificaciones de brokers\n",
    "        datos = {\n",
    "            'fecha': self.fechas,\n",
    "            'precio_frambuesa': precio_frambuesa,\n",
    "            'volumen_frambuesa': volumen_frambuesa,\n",
    "            'calidad_frambuesa': calidad_frambuesa,\n",
    "            'precio_aguacate': precio_aguacate,\n",
    "            'volumen_aguacate': volumen_aguacate,\n",
    "            'calidad_aguacate': calidad_aguacate,\n",
    "            'precio_chile': precio_chile,\n",
    "            'volumen_chile': volumen_chile,\n",
    "            'calidad_chile': calidad_chile,\n",
    "            'temperatura': temperatura,\n",
    "            'humedad': humedad,\n",
    "        }\n",
    "        \n",
    "        return pd.DataFrame(datos)\n",
    "    \n",
    "    def agregar_eventos_mercado(self, df):\n",
    "        \"\"\"\n",
    "        Agrega eventos de mercado simulados\n",
    "        \"\"\"\n",
    "        np.random.seed(self.rseed)\n",
    "        eventos = np.zeros(self.n_dias)\n",
    "        if self.interesante:\n",
    "            # frambuesa (perecedero)\n",
    "            for i in range(100, self.n_dias, 180):\n",
    "                duracion = np.random.randint(5, 15)\n",
    "                intensidad = np.random.uniform(0.4, 0.7)\n",
    "                \n",
    "                df.loc[i:i+duracion, 'precio_frambuesa'] *= 10*intensidad\n",
    "                df.loc[i:i+duracion, 'volumen_frambuesa'] *= np.random.uniform(1.2, 1.8)\n",
    "                eventos[i:i+duracion] = 1  # Evento tipo 1: sobreoferta\n",
    "                \n",
    "            # aguacate (especulación)\n",
    "            for i in range(150, self.n_dias, 220):\n",
    "                duracion = np.random.randint(10, 20)\n",
    "                intensidad = np.random.uniform(1.3, 1.8)\n",
    "                \n",
    "                df.loc[i:i+duracion, 'precio_aguacate'] *= intensidad\n",
    "                df.loc[i:i+duracion, 'volumen_aguacate'] *= np.random.uniform(0.6, 0.9)\n",
    "                eventos[i:i+duracion] = 0  # Evento tipo 2: especulación\n",
    "                \n",
    "            # climáticos extremos\n",
    "            for i in range(200, self.n_dias, 300):\n",
    "                duracion = np.random.randint(7, 14)\n",
    "                \n",
    "                df.loc[i:i+duracion, 'temperatura'] += np.random.uniform(5, 10)\n",
    "                df.loc[i:i+duracion, 'humedad'] -= np.random.uniform(15, 25)\n",
    "                eventos[i:i+duracion] = 0  # Evento tipo 3: clima extremo\n",
    "            \n",
    "        return df, eventos\n",
    "    \n",
    "    def simular_comportamiento_brokers(self, df):\n",
    "        \"\"\"\n",
    "        Simula el comportamiento estratégico de brokers\n",
    "        \"\"\"\n",
    "        # estrategias de brokers basadas en condiciones de mercado\n",
    "        df['estrategia_broker'] = 'neutral'\n",
    "        \n",
    "        # identificar condiciones para diferentes estrategias\n",
    "        mask_sobreoferta = (df['precio_frambuesa'].pct_change(5) < -0.15)\n",
    "        mask_especulacion = (df['precio_aguacate'].pct_change(5) > 0.2)\n",
    "        mask_clima_extremo = (df['temperatura'] > 32) | (df['humedad'] < 40)\n",
    "        \n",
    "        df.loc[mask_sobreoferta, 'estrategia_broker'] = 'liquidacion'\n",
    "        df.loc[mask_especulacion, 'estrategia_broker'] = 'acaparamiento'\n",
    "        df.loc[mask_clima_extremo, 'estrategia_broker'] = 'precaucion'\n",
    "        \n",
    "        return df\n",
    "    \n",
    "    def generar_datos(self):\n",
    "        \"\"\"\n",
    "        Genera el conjunto completo de datos simulados\n",
    "        \"\"\"\n",
    "        np.random.seed(self.rseed)\n",
    "        df = self.generar_base()\n",
    "        df, eventos = self.agregar_eventos_mercado(df)\n",
    "        df = self.simular_comportamiento_brokers(df)\n",
    "        \n",
    "        # agregar elasticidad cruzada simulada\n",
    "        df['precio_fresa'] = df['precio_frambuesa'] * np.random.uniform(0.8, 1.2)\n",
    "        df.loc[df['precio_frambuesa'] > df['precio_frambuesa'].quantile(0.8), 'precio_fresa'] *= 1.1\n",
    "        \n",
    "        self.df = df\n",
    "        self.eventos = eventos\n",
    "        return df, eventos"
   ]
  },
  {
   "cell_type": "markdown",
   "id": "97dfc0da",
   "metadata": {},
   "source": [
    "### 2.1 Genear y visualizar datos\n",
    "\n",
    "Actividades/preguntas:\n",
    "1. Genere los datos y guardélos en una base de datos con formato csv.\n",
    "2. Grafique los datos más relevantes a su consideración.\n",
    "3. Juegue con los parámetros que considere mas relvantes dentro de la clase `DatosAgricolas`\n",
    "4. Dé una interpretación\n"
   ]
  },
  {
   "cell_type": "code",
<<<<<<< Updated upstream
   "execution_count": 3,
=======
   "execution_count": 4,
>>>>>>> Stashed changes
   "id": "d35b07cc",
   "metadata": {},
   "outputs": [
    {
     "name": "stdout",
     "output_type": "stream",
     "text": [
<<<<<<< Updated upstream
      "49.0 1000\n"
=======
      "43.0 1000\n"
>>>>>>> Stashed changes
     ]
    },
    {
     "data": {
<<<<<<< Updated upstream
      "image/png": "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",
=======
      "image/png": "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",
>>>>>>> Stashed changes
      "text/plain": [
       "<Figure size 1200x600 with 1 Axes>"
      ]
     },
     "metadata": {},
     "output_type": "display_data"
    },
    {
     "name": "stdout",
     "output_type": "stream",
     "text": [
      "Evolución de precios guardada en 'evolucion_precios.png'\n",
      "   precio_frambuesa  volumen_frambuesa\n",
      "0          0.000000          19.738365\n",
      "1          0.444656          20.736357\n",
      "2          0.887553          18.733271\n",
      "3          1.326940          18.733392\n",
      "4          1.761080          20.800714\n",
<<<<<<< Updated upstream
      "Accuracy on train: 0.982\n",
      "ROC AUC on train: 0.995\n",
      "Accuracy on valid: 0.98\n",
      "ROC AUC on valid: 0.992\n",
      "Precision 1 on train: 0.778\n",
      "Precision 0 on train: 0.993\n",
      "Precision 1 on valid: 1.0\n",
      "Precision 0 on valid: 0.979\n"
=======
      "Accuracy on train: 0.97\n",
      "ROC AUC on train: 0.991\n",
      "Accuracy on valid: 0.96\n",
      "ROC AUC on valid: 0.984\n",
      "Precision 1 on train: 0.641\n",
      "Precision 0 on train: 0.985\n",
      "Precision 1 on valid: 0.25\n",
      "Precision 0 on valid: 0.99\n"
>>>>>>> Stashed changes
     ]
    }
   ],
   "source": [
    "params = {\n",
    "    'precio_frambuesa': 70745,\n",
    "    'precio_frambuesa_var':2122,\n",
    "    'volumen_frambuesa':190000,\n",
    "    'volumen_frambuesa_var':11400,\n",
    "\n",
    "    'precio_aguacate':20212,\n",
    "    'precio_aguacate_var':3840,\n",
    "    'volumen_aguacate':2973000,\n",
    "    'volumen_aguacate_var':505000,\n",
    "\n",
    "    'precio_chile':22490,\n",
    "    'precio_chile_var':787,\n",
    "    'volumen_chile': 3681000,\n",
    "    'volumen_chile_var':662580\n",
    "}\n",
    "\n",
    "\n",
    "generador = DatosAgricolas(params, n_dias=1000, factor=10000)\n",
    "df, eventos = generador.generar_datos()\n",
    "df['y'] = eventos\n",
    "    \n",
    "print(np.sum(eventos), len(df))\n",
    "\n",
    "X = df[['precio_frambuesa', 'volumen_frambuesa']].copy()\n",
    "Y = df[\"y\"]\n",
    "\n",
    "plt.figure(figsize=(12, 6))\n",
    "plt.plot(df['fecha'], df['precio_frambuesa'], label='Frambuesa')\n",
    "#plt.plot(df['fecha'], df['volumen_aguacate'], label='Aguacate')\n",
    "#plt.plot(df['fecha'], df['volumen_chile'], label='Chile seco')\n",
    "plt.title('Precios')\n",
    "plt.xlabel('Fecha')\n",
    "plt.ylabel('Precio MXN')\n",
    "#plt.yscale(\"log\")\n",
    "plt.legend()\n",
    "#plt.grid(True)\n",
    "plt.show()\n",
    "plt.savefig('evolucion_precios.png')\n",
    "plt.close()\n",
    "print(\"Evolución de precios guardada en 'evolucion_precios.png'\")\n",
    "\n",
    "\n",
    "print(X.head())\n",
    "df.to_csv('./datos_agricolas_simulados.csv', index=False)\n",
    "\n",
    "\n",
    "from sklearn.model_selection import train_test_split\n",
    "from sklearn.metrics import accuracy_score, roc_auc_score, precision_score\n",
    "\n",
    "X_train, X_valid, y_train, y_valid = train_test_split(X, Y, test_size=0.1, random_state=42)\n",
    "\n",
    "\n",
    "def print_scores(fitted_model):\n",
    "    res = {\n",
    "        \"Accuracy on train:\": accuracy_score(fitted_model.predict(X_train), y_train),\n",
    "        \"ROC AUC on train:\": roc_auc_score(\n",
    "            y_train, fitted_model.predict_proba(X_train)[:, 1]\n",
    "        ),\n",
    "        \"Accuracy on valid:\": accuracy_score(fitted_model.predict(X_valid), y_valid),\n",
    "        \"ROC AUC on valid:\": roc_auc_score(\n",
    "            y_valid, fitted_model.predict_proba(X_valid)[:, 1]\n",
    "        ),\n",
    "        \"Precision 1 on train:\": precision_score(fitted_model.predict(X_train), y_train, pos_label=1),\n",
    "        \"Precision 0 on train:\": precision_score(fitted_model.predict(X_train), y_train, pos_label=0),\n",
    "        \"Precision 1 on valid:\": precision_score(fitted_model.predict(X_valid), y_valid, pos_label=1),\n",
    "        \"Precision 0 on valid:\": precision_score(fitted_model.predict(X_valid), y_valid, pos_label=0),\n",
    "    }\n",
    "\n",
    "    for k, v in res.items():\n",
    "        print(k, round(v, 3))\n",
    "\n",
    "from sklearn.linear_model import LogisticRegression\n",
    "\n",
    "model = LogisticRegression()\n",
    "model.fit(X_train, y_train)\n",
    "print_scores(model)\n"
   ]
  },
  {
<<<<<<< Updated upstream
=======
   "cell_type": "code",
   "execution_count": 13,
   "id": "b1c809ce",
   "metadata": {},
   "outputs": [
    {
     "name": "stdout",
     "output_type": "stream",
     "text": [
      "100 <class 'list'>\n",
      "Evaluación del modelo SVM\n",
      "Clasificador: 0\n",
      "Accuracy on train: 0.533\n",
      "ROC AUC on train: 0.0\n",
      "Accuracy on valid: 0.4\n",
      "ROC AUC on valid: 0.0\n",
      "Precision 1 on train: 0.0\n",
      "Precision 0 on train: 1.0\n",
      "Precision 1 on valid: 0.0\n",
      "Precision 0 on valid: 1.0\n"
     ]
    },
    {
     "data": {
      "text/plain": [
       "'\\n    if y_pred.sum() > 0:\\n        clasificador = 1\\n\\n    print(\"Clasificador:\", clasificador)\\n\\n        # for key, value in res.items():\\n        #     print(key, round(value, 3))\\n\\n    try:\\n        model = LogisticRegression()\\n        model.fit(X_train, y_train)\\n        print_scores(model)\\n    except ValueError as e:\\n        print(\"Clasificador:\", clasificador)\\n        model = None\\n\\n    labels.append(df.copy())\\n\\n    df_final = pd.concat(labels, ignore_index=True)\\n    # Mapper\\n    '"
      ]
     },
     "execution_count": 13,
     "metadata": {},
     "output_type": "execute_result"
    }
   ],
   "source": [
    "########## PRUEBA SUPER DUPER\n",
    "\n",
    "from sklearn.model_selection import train_test_split\n",
    "from sklearn.metrics import accuracy_score, roc_auc_score, precision_score\n",
    "from sklearn.linear_model import LogisticRegression\n",
    "from sklearn.svm import SVC\n",
    "\n",
    "\n",
    "params = {\n",
    "    'precio_frambuesa': 70745,\n",
    "    'precio_frambuesa_var':2122,\n",
    "    'volumen_frambuesa':190000,\n",
    "    'volumen_frambuesa_var':11400,\n",
    "\n",
    "    'precio_aguacate':20212,\n",
    "    'precio_aguacate_var':3840,\n",
    "    'volumen_aguacate':2973000,\n",
    "    'volumen_aguacate_var':505000,\n",
    "\n",
    "    'precio_chile':22490,\n",
    "    'precio_chile_var':787,\n",
    "    'volumen_chile': 3681000,\n",
    "    'volumen_chile_var':662580\n",
    "}\n",
    "\n",
    "n_signals = 100\n",
    "signals = []\n",
    "labels = []\n",
    "for i in range(n_signals):\n",
    "    rseed = random.seed(time.time())\n",
    "    interesting = random.choice([True, False])\n",
    "    generador = DatosAgricolas(params, n_dias=1000, factor=10000, interesante=interesting, rseed=rseed)\n",
    "    df, eventos = generador.generar_datos()\n",
    "    signal = np.array(df[\"precio_frambuesa\"].copy())\n",
    "    signals.append(signal)\n",
    "    label = int(interesting)\n",
    "    labels.append(label)\n",
    "\n",
    "\n",
    "\n",
    "    # plt.figure(figsize=(12, 6))\n",
    "    # plt.plot(df['fecha'], df['precio_frambuesa'], label='Frambuesa')\n",
    "    # #plt.plot(df['fecha'], df['volumen_aguacate'], label='Aguacate')\n",
    "    # #plt.plot(df['fecha'], df['volumen_chile'], label='Chile seco')\n",
    "    # plt.title('Precios')\n",
    "    # plt.xlabel('Fecha')\n",
    "    # plt.ylabel('Precio MXN')\n",
    "    # #plt.yscale(\"log\")\n",
    "    # plt.legend()\n",
    "    # #plt.grid(True)\n",
    "    # plt.show()\n",
    "    # # plt.savefig('evolucion_precios.png')\n",
    "    # # plt.close()\n",
    "    # # print(\"Evolución de precios guardada en 'evolucion_precios.png'\")\n",
    "\n",
    "\n",
    "    # print(X.head())\n",
    "    # df.to_csv('./datos_agricolas_simulados.csv', index=False)\n",
    "\n",
    "X = np.array(signals)\n",
    "y = np.array(labels)\n",
    "\n",
    "# Dividir en train y validación\n",
    "X_train, X_valid, y_train, y_valid = train_test_split(X, y, test_size=0.1, random_state=42)\n",
    "\n",
    "# Definir y entrenar modelo SVM\n",
    "model = SVC(probability=True, kernel=\"rbf\", C=1.0, gamma='scale', random_state=42)\n",
    "model.fit(X_train, y_train)\n",
    "\n",
    "print(len(signals), type(signals))\n",
    "\n",
    "clasificador = 0\n",
    "def print_scores(fitted_model):\n",
    "     print(\"Evaluación del modelo SVM\")\n",
    "     y_pred_train = fitted_model.predict(X_train)\n",
    "     y_pred_valid = fitted_model.predict(X_valid)\n",
    "\n",
    "     res = {\n",
    "            'Predictions on train:': y_pred_train,\n",
    "            \"Accuracy on train:\": accuracy_score(y_pred_train, y_train),\n",
    "            \"ROC AUC on train:\": roc_auc_score(\n",
    "                y_train, fitted_model.predict_proba(X_train)[:, 1]\n",
    "            ),\n",
    "            \"Accuracy on valid:\": accuracy_score(fitted_model.predict(X_valid), y_valid),\n",
    "            \"ROC AUC on valid:\": roc_auc_score(\n",
    "                y_valid, fitted_model.predict_proba(X_valid)[:, 1]\n",
    "            ),\n",
    "            \"Precision 1 on train:\": precision_score(y_pred_train, y_train, pos_label=1),\n",
    "            \"Precision 0 on train:\": precision_score(y_pred_train, y_train, pos_label=0),\n",
    "            \"Precision 1 on valid:\": precision_score(fitted_model.predict(X_valid), y_valid, pos_label=1),\n",
    "            \"Precision 0 on valid:\": precision_score(fitted_model.predict(X_valid), y_valid, pos_label=0),\n",
    "        }\n",
    "     print(\"Clasificador:\", clasificador)\n",
    "\n",
    "     for key, value in res.items():\n",
    "        if not isinstance(value, np.ndarray):  # Evita imprimir arrays largos\n",
    "            print(key, round(value, 3))\n",
    "\n",
    "print_scores(model)\n",
    "\n",
    "\"\"\"\n",
    "    if y_pred.sum() > 0:\n",
    "        clasificador = 1\n",
    "\n",
    "    print(\"Clasificador:\", clasificador)\n",
    "\n",
    "        # for key, value in res.items():\n",
    "        #     print(key, round(value, 3))\n",
    "\n",
    "    try:\n",
    "        model = LogisticRegression()\n",
    "        model.fit(X_train, y_train)\n",
    "        print_scores(model)\n",
    "    except ValueError as e:\n",
    "        print(\"Clasificador:\", clasificador)\n",
    "        model = None\n",
    "\n",
    "    labels.append(df.copy())\n",
    "\n",
    "    df_final = pd.concat(labels, ignore_index=True)\n",
    "    # Mapper\n",
    "    \"\"\"\n",
    "\n",
    "\n"
   ]
  },
  {
>>>>>>> Stashed changes
   "cell_type": "markdown",
   "id": "3454adb0",
   "metadata": {},
   "source": [
    "###  2 Análisis TDA completo (homología persistente + Mapper)\n",
    "\n",
    "Actividades/preguntas:\n",
    "1. Describa cual es el objetivo principal de esta clase\n",
    "2. Comentar (describir) las líneas más importantes y escribir documentación adecuada para la clase `AnalisisTDA`\n",
    "3. En la clase `DatosAgricolas` hay varios parámetros que usted puede ajustar, identifíquelos e interprete ssu efecto en los datos.\n",
    "4. Describa el outcome que espera de la clase `AnalisisTDA`\n",
    "5. Discuta cualesquiera otras informaciones en `AnalisisTDA` que puedan ser relevantes."
   ]
  },
  {
   "cell_type": "code",
   "execution_count": null,
   "id": "27c1d7ec",
   "metadata": {},
   "outputs": [],
   "source": [
    "from gtda.diagrams import PersistenceEntropy, Scaler\n",
    "from gtda.homology import VietorisRipsPersistence\n",
    "from gtda.metaestimators import CollectionTransformer\n",
    "from gtda.pipeline import Pipeline\n",
    "from gtda.time_series import TakensEmbedding, SingleTakensEmbedding\n",
    "from gtda.time_series import SlidingWindow\n",
    "from sklearn.decomposition import PCA\n",
    "import sys\n",
    "\n",
    "\n",
    "class AnalisisTDA:\n",
    "    \"\"\"\n",
    "    Analisis topologico\n",
    "    \"\"\"\n",
    "    def __init__(self, embedding_type = \"TK\", only_x = True, univariate = False, option_uni = None):\n",
    "        self.m_embedder   = embedding_type\n",
    "        self.m_only_x = only_x\n",
    "        self.m_univariate = univariate\n",
    "        self.m_option_uni = option_uni\n",
    "\n",
    "        \n",
    "    def homologia_persistente(self, x_datos, y_datos=None, embedding_dimension = 2, embedding_time_delay = 1, window_size = 100,  stride = 4):\n",
    "        \"\"\"\n",
    "        homologia persistente usando Vietoris-Rips. TODO: documentar\n",
    "        \"\"\"\n",
    "        if self.m_embedder == \"STK\" or (self.m_univariate and self.m_option_uni==1):\n",
    "            embedder = TakensEmbedding(time_delay=embedding_time_delay, dimension=embedding_dimension, stride=stride)            \n",
    "        elif self.m_embedder == \"TK\" or (self.m_univariate and self.m_option_uni==2):\n",
    "            embedder = SingleTakensEmbedding(time_delay=embedding_time_delay, dimension=embedding_dimension, stride=stride)\n",
    "        elif self.m_embedder == \"SW\":\n",
    "            embedder = SlidingWindow(size = embedding_dimension, stride=stride)\n",
    "        else:\n",
    "            sys.exit(\"Embedder no disponible!\")\n",
    "\n",
    "        persistence = VietorisRipsPersistence(homology_dimensions=[0, 1, 2], n_jobs=-1)\n",
    "        scaling = Scaler()\n",
    "        entropy = PersistenceEntropy(normalize=True, nan_fill_value=-10)\n",
    "\n",
    "        if self.m_univariate: # one dimensional\n",
    "            sw = SlidingWindow(size=window_size, stride=stride)\n",
    "            if self.m_option_uni == 1:   # Option 1: SlidingWindow + TakensEmbedding\n",
    "                steps_1 = [(\"sw\", sw), (\"embedder\", embedder), (\"persistence\", persistence)]\n",
    "            elif self.m_option_uni == 2: # Option 2: SingleTakensEmbedding + SlidingWindow\n",
    "                steps_1 = [(\"embedder\", embedder), (\"sw\", sw), (\"persistence\", persistence)]\n",
    "        else: # multidimensional or many signals\n",
    "            pca = CollectionTransformer(PCA(n_components=3), n_jobs=-1)\n",
    "            steps_1 = [(\"embedder\", embedder), (\"PCA\", pca), (\"persistence\", persistence)]\n",
    "        \n",
    "        steps_2 = [(\"scaling\", scaling), (\"entropy\", entropy)]\n",
    "\n",
    "        topological_transfomer_1 = Pipeline(steps_1)\n",
    "        topological_transfomer_2 = Pipeline(steps_2)\n",
    "\n",
    "        if self.m_option_uni==2:\n",
    "            pca = PCA(n_components=2)\n",
    "            steps_v = [(\"embedder\", embedder), (\"PCA\", pca)]\n",
    "            plot_cloud = Pipeline(steps_v).fit_transform(x_datos)\n",
    "            \n",
    "\n",
    "        if self.m_only_x:\n",
    "            diagramas = topological_transfomer_1.fit_transform(x_datos)\n",
    "            trans_features = topological_transfomer_2.fit_transform(diagramas)\n",
    "\n",
    "        if self.m_option_uni==1:\n",
    "            return  diagramas[0],trans_features\n",
    "        elif self.m_option_uni==2:\n",
    "            return  diagramas[0],trans_features,plot_cloud\n",
    "    \n",
    "    \n",
    "    def mapper_algorithm(self, datos, n_cubiertas=15, overlap=0.3):\n",
    "        \"\"\"\n",
    "        usar el algoritmo mapper. TODO: documentar \n",
    "        \"\"\"\n",
    "        # configurar algoritmo mapper\n",
    "        mapper_algoritmo = make_mapper_pipeline(\n",
    "            projection=Projection(columns=list(range(datos.shape[1]))),\n",
    "            clusterer=DBSCAN(eps=0.3, min_samples=5),\n",
    "            cover_n_cubes=n_cubiertas,\n",
    "            cover_perc_overlap=overlap,\n",
    "            scaler=MinMaxScaler()\n",
    "        )\n",
    "        \n",
    "        # aplicar mapper\n",
    "        fig = plot_static_mapper_graph(\n",
    "            mapper_algoritmo,\n",
    "            datos,\n",
    "            color_by_columns_dropdown=True,\n",
    "            node_color_statistic=np.mean\n",
    "        )\n",
    "        \n",
    "        return fig\n"
   ]
  },
  {
   "cell_type": "code",
<<<<<<< Updated upstream
   "execution_count": 11,
=======
   "execution_count": 14,
>>>>>>> Stashed changes
   "id": "4b5ddda6",
   "metadata": {},
   "outputs": [],
   "source": [
    "# Probar\n",
    "class AnalisisTDA:\n",
    "    \"\"\"\n",
    "    Análisis topológico\n",
    "    \"\"\"\n",
    "    def __init__(self, embedding_type=\"TK\", only_x=True, univariate=False, option_uni=None, conversion_method=\"entropy\"):\n",
    "        \"\"\"\n",
    "        Inicialización de la clase AnalisisTDA.\n",
    "\n",
    "        Parameters:\n",
    "        - embedding_type: Tipo de embedding (\"TK\", \"STK\", \"SW\").\n",
    "        - only_x: Si solo se utiliza x_datos.\n",
    "        - univariate: Si los datos son univariados.\n",
    "        - option_uni: Opción para datos univariados (1 o 2).\n",
    "        - conversion_method: Método de conversión de diagramas de persistencia (\"entropy\", \"scaling\", \"vector\").\n",
    "        \"\"\"\n",
    "        self.m_embedder = embedding_type\n",
    "        self.m_only_x = only_x\n",
    "        self.m_univariate = univariate\n",
    "        self.m_option_uni = option_uni\n",
    "        self.conversion_method = conversion_method\n",
    "\n",
    "    def homologia_persistente(self, x_datos, y_datos=None, embedding_dimension=2, embedding_time_delay=1, window_size=100, stride=4):\n",
    "        \"\"\"\n",
    "        Homología persistente usando Vietoris-Rips.\n",
    "        \"\"\"\n",
    "        if self.m_embedder == \"STK\" or (self.m_univariate and self.m_option_uni == 1):\n",
    "            embedder = TakensEmbedding(time_delay=embedding_time_delay, dimension=embedding_dimension, stride=stride)\n",
    "        elif self.m_embedder == \"TK\" or (self.m_univariate and self.m_option_uni == 2):\n",
    "            embedder = SingleTakensEmbedding(time_delay=embedding_time_delay, dimension=embedding_dimension, stride=stride)\n",
    "        elif self.m_embedder == \"SW\":\n",
    "            embedder = SlidingWindow(size=embedding_dimension, stride=stride)\n",
    "        else:\n",
    "            sys.exit(\"Embedder no disponible!\")\n",
    "\n",
    "        persistence = VietorisRipsPersistence(homology_dimensions=[0, 1, 2], n_jobs=-1)\n",
    "        scaling = Scaler()\n",
    "        entropy = PersistenceEntropy(normalize=True, nan_fill_value=-10)\n",
    "\n",
    "        if self.m_univariate:  # Datos univariados\n",
    "            sw = SlidingWindow(size=window_size, stride=stride)\n",
    "            if self.m_option_uni == 1:  # SlidingWindow + TakensEmbedding\n",
    "                steps_1 = [(\"sw\", sw), (\"embedder\", embedder), (\"persistence\", persistence)]\n",
    "            elif self.m_option_uni == 2:  # SingleTakensEmbedding + SlidingWindow\n",
    "                steps_1 = [(\"embedder\", embedder), (\"sw\", sw), (\"persistence\", persistence)]\n",
    "        else:  # Datos multidimensionales\n",
    "            pca = CollectionTransformer(PCA(n_components=3), n_jobs=-1)\n",
    "            steps_1 = [(\"embedder\", embedder), (\"PCA\", pca), (\"persistence\", persistence)]\n",
    "\n",
    "        topological_transfomer_1 = Pipeline(steps_1)\n",
    "\n",
    "        # Configuración del método de conversión\n",
    "        if self.conversion_method == \"entropy\":\n",
    "            steps_2 = [(\"scaling\", scaling), (\"entropy\", entropy)]\n",
    "        elif self.conversion_method == \"scaling\":\n",
    "            steps_2 = [(\"scaling\", scaling)]\n",
    "        elif self.conversion_method == \"vector\":\n",
    "            vectorization = PersistenceEntropy(normalize=False, nan_fill_value=0)\n",
    "            steps_2 = [(\"vectorization\", vectorization)]\n",
    "        else:\n",
    "            sys.exit(\"Método de conversión no disponible!\")\n",
    "\n",
    "        topological_transfomer_2 = Pipeline(steps_2)\n",
    "\n",
    "        if self.m_only_x:\n",
    "            diagramas = topological_transfomer_1.fit_transform(x_datos)\n",
    "            trans_features = topological_transfomer_2.fit_transform(diagramas)\n",
    "\n",
    "        if self.m_option_uni == 1:\n",
    "            return diagramas[0], trans_features\n",
    "        elif self.m_option_uni == 2:\n",
    "            pca = PCA(n_components=2)\n",
    "            steps_v = [(\"embedder\", embedder), (\"PCA\", pca)]\n",
    "            plot_cloud = Pipeline(steps_v).fit_transform(x_datos)\n",
    "            return diagramas[0], trans_features, plot_cloud\n",
    "\n",
    "    def mapper_algorithm(self, datos, n_cubiertas=15, overlap=0.3):\n",
    "        \"\"\"\n",
    "        Usar el algoritmo Mapper.\n",
    "        \"\"\"\n",
    "        mapper_algoritmo = make_mapper_pipeline(\n",
    "            projection=Projection(columns=list(range(datos.shape[1]))),\n",
    "            clusterer=DBSCAN(eps=0.3, min_samples=5),\n",
    "            cover_n_cubes=n_cubiertas,\n",
    "            cover_perc_overlap=overlap,\n",
    "            scaler=MinMaxScaler()\n",
    "        )\n",
    "\n",
    "        fig = plot_static_mapper_graph(\n",
    "            mapper_algoritmo,\n",
    "            datos,\n",
    "            color_by_columns_dropdown=True,\n",
    "            node_color_statistic=np.mean\n",
    "        )\n",
    "\n",
    "        return fig\n",
    "    \n",
    "    ##Agregar análisis TDA\n",
    "    def diagrama_grafo_broker(self, grafica):\n",
    "        \"\"\"\n",
    "        # TODO: documentar y revisar la robustes ante division entre cero\n",
    "        \"\"\"\n",
    "        adj_matrix = nx.to_numpy_array(grafica, weight='weight')\n",
    "        distance_matrix = 1 / adj_matrix\n",
    "        distance_matrix[np.isinf(distance_matrix)] = 0\n",
    "        vr = VietorisRipsPersistence(metric='precomputed', homology_dimensions=[0, 1, 2])\n",
    "        return vr.fit_transform(distance_matrix[None, :, :])\n",
    "\n",
    "\n",
    "\n",
    "    def distancia_dos_diagramas(self, diagrama1, diagrama2, metrica=\"wasserstein\"):\n",
    "        \"\"\"\n",
    "        TODO: documentar\n",
    "        \"\"\"\n",
    "        distance = PairwiseDistance(metric=metrica)\n",
    "        return distance.fit_transform([diagrama1[0], diagrama2[0]])[0, 1]"
   ]
  },
  {
   "cell_type": "markdown",
   "id": "2b1dd8fb",
   "metadata": {},
   "source": [
    "### 2.1 Probar la clase `AnalisisTDA` con una serie simple univariada"
   ]
  },
  {
   "cell_type": "code",
<<<<<<< Updated upstream
   "execution_count": 10,
=======
   "execution_count": 15,
>>>>>>> Stashed changes
   "id": "986745c1",
   "metadata": {},
   "outputs": [
    {
<<<<<<< Updated upstream
     "data": {
      "application/vnd.plotly.v1+json": {
       "config": {
        "plotlyServerURL": "https://plot.ly"
       },
       "data": [
        {
         "hoverinfo": "none",
         "line": {
          "color": "black",
          "dash": "dash",
          "width": 1
         },
         "mode": "lines",
         "showlegend": false,
         "type": "scatter",
         "x": [
          -0.5178339004516601,
          26.409528923034667
         ],
         "y": [
          -0.5178339004516601,
          26.409528923034667
         ]
        },
        {
         "hoverinfo": "text",
         "hovertext": [
          "(0.0, 0.08675462752580643)",
          "(0.0, 0.08802083134651184)",
          "(0.0, 0.08803637325763702)",
          "(0.0, 0.08806757628917694)",
          "(0.0, 0.08822549134492874)",
          "(0.0, 0.08825742453336716)",
          "(0.0, 0.08827343583106995)",
          "(0.0, 0.0883055254817009)",
          "(0.0, 0.08970799297094345)",
          "(0.0, 0.08973942697048187)",
          "(0.0, 0.08987922221422195)",
          "(0.0, 0.08990988880395889)",
          "(0.0, 0.0899403989315033)",
          "(0.0, 0.09118286520242691)",
          "(0.0, 0.17356422543525696)",
          "(0.0, 0.17376157641410828)",
          "(0.0, 0.17378222942352295)",
          "(0.0, 0.17613427340984344)",
          "(0.0, 0.17661017179489136)",
          "(0.0, 0.1793203204870224)",
          "(0.0, 0.17935197055339813)",
          "(0.0, 0.17981888353824615)",
          "(0.0, 0.1820877343416214)",
          "(0.0, 0.21322986483573914)",
          "(0.0, 0.26034417748451233)",
          "(0.0, 0.2734397053718567)",
          "(0.0, 0.3662889301776886)",
          "(0.0, 0.7346207499504089)",
          "(0.0, 1.5866888761520386)",
          "(0.0, 2.5555851459503174)",
          "(0.0, 3.4959676265716553)",
          "(0.0, 3.9618113040924072)",
          "(0.0, 3.971510887145996)",
          "(0.0, 4.003703594207764)",
          "(0.0, 4.047316074371338)",
          "(0.0, 4.161313533782959)",
          "(0.0, 4.172908306121826)",
          "(0.0, 4.1833953857421875)",
          "(0.0, 4.183588981628418)",
          "(0.0, 4.190316677093506)",
          "(0.0, 4.193732738494873)",
          "(0.0, 4.242801189422607)",
          "(0.0, 4.271419525146484)",
          "(0.0, 4.283836841583252)",
          "(0.0, 4.305600643157959)",
          "(0.0, 4.305875301361084)",
          "(0.0, 4.325515270233154)",
          "(0.0, 4.423793792724609)",
          "(0.0, 4.553162574768066)",
          "(0.0, 6.214213848114014)",
          "(0.0, 6.349785327911377)",
          "(0.0, 6.7674336433410645)",
          "(0.0, 6.797903060913086)",
          "(0.0, 6.892451763153076)",
          "(0.0, 7.268224716186523)",
          "(0.0, 7.35727596282959)",
          "(0.0, 7.385067462921143)",
          "(0.0, 7.4807515144348145)",
          "(0.0, 7.8989057540893555)",
          "(0.0, 7.941834926605225)",
          "(0.0, 8.0142822265625)",
          "(0.0, 8.336274147033691)",
          "(0.0, 8.503096580505371)",
          "(0.0, 8.527575492858887)",
          "(0.0, 8.59309196472168)",
          "(0.0, 8.705817222595215)",
          "(0.0, 8.728236198425293)",
          "(0.0, 8.744973182678223)",
          "(0.0, 8.85330581665039)",
          "(0.0, 8.976964950561523)",
          "(0.0, 9.014312744140625)",
          "(0.0, 9.128214836120605)",
          "(0.0, 9.357677459716797)",
          "(0.0, 9.474777221679688)",
          "(0.0, 9.549553871154785)",
          "(0.0, 9.664461135864258)",
          "(0.0, 10.059663772583008)",
          "(0.0, 10.168795585632324)",
          "(0.0, 10.54536247253418)",
          "(0.0, 10.649505615234375)",
          "(0.0, 11.016380310058594)",
          "(0.0, 11.097804069519043)",
          "(0.0, 11.177716255187988)",
          "(0.0, 12.68701171875)",
          "(0.0, 12.748321533203125)",
          "(0.0, 12.838773727416992)",
          "(0.0, 12.995635986328125)",
          "(0.0, 13.170648574829102)",
          "(0.0, 13.358798027038574)",
          "(0.0, 14.048516273498535)",
          "(0.0, 14.60722827911377)",
          "(0.0, 15.407100677490234)",
          "(0.0, 16.41461181640625)",
          "(0.0, 16.479394912719727)",
          "(0.0, 18.24268341064453)",
          "(0.0, 18.3128604888916)",
          "(0.0, 20.02587127685547)",
          "(0.0, 20.093778610229492)",
          "(0.0, 21.730087280273438)"
         ],
         "mode": "markers",
         "name": "H0",
         "type": "scatter",
         "x": {
          "bdata": "AAAAAAAAAAAAAAAAAAAAAAAAAAAAAAAAAAAAAAAAAAAAAAAAAAAAAAAAAAAAAAAAAAAAAAAAAAAAAAAAAAAAAAAAAAAAAAAAAAAAAAAAAAAAAAAAAAAAAAAAAAAAAAAAAAAAAAAAAAAAAAAAAAAAAAAAAAAAAAAAAAAAAAAAAAAAAAAAAAAAAAAAAAAAAAAAAAAAAAAAAAAAAAAAAAAAAAAAAAAAAAAAAAAAAAAAAAAAAAAAAAAAAAAAAAAAAAAAAAAAAAAAAAAAAAAAAAAAAAAAAAAAAAAAAAAAAAAAAAAAAAAAAAAAAAAAAAAAAAAAAAAAAAAAAAAAAAAAAAAAAAAAAAAAAAAAAAAAAAAAAAAAAAAAAAAAAAAAAAAAAAAAAAAAAAAAAAAAAAAAAAAAAAAAAAAAAAAAAAAAAAAAAAAAAAAAAAAAAAAAAAAAAAAAAAAAAAAAAAAAAAAAAAAAAAAAAAAAAAAAAAAAAAAAAAAAAAAAAAAAAAAAAAAAAAAAAAAAAAAAAAAAAAAAAAAAAAAAAAAAAAAAAAAAAAAAAAAAAAAAAAAAAAAAAAAAAAAAAAAAAAAAAAAAAAAAAAAAAAAAAAAAAAAAAAAAAAAAAAAAAAAAAAAAAAAAAAAAAAAAAAAAAAAAAAAAAAAAAAAAAAAAAAAAAAAAAAAAAAAAAAAAAAAAAAAAAAAAAAAAAAAAAAAAAAAAAAAAAAAAAAAAAAAAAAAAAAAAAAAAAAAAAAAAAAAAAAAAAAAAAAAAAAAAAAAAAAAAAAAAAAAAAAAAAAAAAAAAAAAAAAAAAAAAAAAAAAAAAAAAAAAAAAAAAAAAAAAAAAAAAAAAAAAAAAAAAAAAAAAAAAAAAAAAAAAAAAAAAAAAAAAAAAAAAAAAAAAAAAAAAAAAAAAAAAAAAAAAAAAAAAAAAAAAAAAAAAAAAAAAAAAAAAAAAAAAAAAAAAAAAAAAAAAAAAAAAAAAAAAAAAAAAAAAAAAAAAAAAAAAAAAAAAAAAAAAAAAAAAAAAAAAAAAAAAAAAAAAAAAAAAAAAAAAAAAAAAAA",
          "dtype": "f8"
         },
         "y": {
          "bdata": "AAAAII01tj8AAACAiIi2PwAAAECNibY/AAAAwJiLtj8AAAAg8pW2PwAAAOAJmLY/AAAAgBaZtj8AAADgMJu2PwAAAGAa97Y/AAAAwCn5tj8AAAAgUwK3PwAAAKBVBLc/AAAAgFUGtz8AAACgwle3PwAAAEBaN8Y/AAAAwNE9xj8AAAAAfz7GPwAAAGCRi8Y/AAAAgCmbxj8AAADg9/PGPwAAAGAB9cY/AAAAIE4Exz8AAACgpk7HPwAAAMAdS8s/AAAAoHqp0D8AAABACYDRPwAAACBHcdc/AAAAYAOC5z8AAADgE2P5PwAAAKDWcQRAAAAA4L33C0AAAAAgyrEPQAAAAICnxQ9AAAAA4MoDEEAAAACgczAQQAAAAGAvpRBAAAAA4A6xEEAAAAAAzLsQQAAAAMD+uxBAAAAAYOLCEEAAAADgYcYQQAAAAOCg+BBAAAAAAO8VEUAAAAAgpiIRQAAAAGDvOBFAAAAAYDc5EUAAAADgU00RQAAAAAD3sRFAAAAAQHA2EkAAAADgWtsYQAAAACAuZhlAAAAAINoRG0AAAACADTEbQAAAAODekRtAAAAAgKkSHUAAAADA2W0dQAAAACBPih1AAAAAIErsHUAAAADAepgfQAAAAGBwxB9AAAAAAFAHIEAAAAAgLKwgQAAAAOCVASFAAAAAYB4OIUAAAADAqS8hQAAAAOBgaSFAAAAAYNt0IUAAAAAgbX0hQAAAAIDktCFAAAAAwDT0IUAAAAAAVAciQAAAAGClQSJAAAAAgCG3IkAAAAAAFvMiQAAAACBfGSNAAAAAQDRUI0AAAABAjB4kQAAAAGBsViRAAAAAwDkXJUAAAAAAjEwlQAAAAABjCCZAAAAAYBMyJkAAAACg/VomQAAAAADAXylAAAAAACR/KUAAAADAc60pQAAAAADE/SlAAAAAQF9XKkAAAABgtLcqQAAAACDXGCxAAAAAoOY2LUAAAACAb9AuQAAAAAAkajBAAAAAoLl6MEAAAACAID4yQAAAAKAXUDJAAAAAgJ8GNEAAAADgARg0QAAAAADnujVA",
          "dtype": "f8"
         }
        },
        {
         "hoverinfo": "text",
         "hovertext": [
          "(24.7338924407959, 24.735015869140625)",
          "(24.701929092407227, 25.205896377563477)",
          "(23.35170555114746, 23.980987548828125)",
          "(21.81829261779785, 24.074710845947266)",
          "(20.303979873657227, 23.012697219848633)",
          "(20.273513793945312, 23.076541900634766)",
          "(18.68875503540039, 22.981136322021484)",
          "(18.61381721496582, 23.041078567504883)",
          "(4.593607425689697, 24.73587417602539)"
         ],
         "mode": "markers",
         "name": "H1",
         "type": "scatter",
         "x": {
          "bdata": "AAAAYOC7OEAAAACgsbM4QAAAAGAJWjdAAAAAoHvRNUAAAACg0U00QAAAAAAFRjRAAAAAQFKwMkAAAAAgI50yQAAAAKDaXxJA",
          "dtype": "f8"
         },
         "y": {
          "bdata": "AAAAACq8OEAAAACgtTQ5QAAAAAAi+zdAAAAAQCATOEAAAAAgQAM3QAAAAECYEzdAAAAAwCv7NkAAAAAghAo3QAAAAEBivDhA",
          "dtype": "f8"
         }
        },
        {
         "hoverinfo": "text",
         "hovertext": [
          "(25.134857177734375, 25.718494415283203)",
          "(25.093626022338867, 25.670263290405273)",
          "(25.0789737701416, 25.748497009277344)",
          "(24.99180030822754, 25.790803909301758)",
          "(24.81125259399414, 25.891695022583008)"
         ],
         "mode": "markers",
         "name": "H2",
         "type": "scatter",
         "x": {
          "bdata": "AAAAAIYiOUAAAADg9xc5QAAAAKA3FDlAAAAAoOb9OEAAAABArs84QA==",
          "dtype": "f8"
         },
         "y": {
          "bdata": "AAAAQO+3OUAAAABglqs5QAAAAICdvzlAAAAAIHLKOUAAAAAgRuQ5QA==",
          "dtype": "f8"
         }
        }
       ],
       "layout": {
        "height": 500,
        "plot_bgcolor": "white",
        "template": {
         "data": {
          "bar": [
           {
            "error_x": {
             "color": "#2a3f5f"
            },
            "error_y": {
             "color": "#2a3f5f"
            },
            "marker": {
             "line": {
              "color": "#E5ECF6",
              "width": 0.5
             },
             "pattern": {
              "fillmode": "overlay",
              "size": 10,
              "solidity": 0.2
             }
            },
            "type": "bar"
           }
          ],
          "barpolar": [
           {
            "marker": {
             "line": {
              "color": "#E5ECF6",
              "width": 0.5
             },
             "pattern": {
              "fillmode": "overlay",
              "size": 10,
              "solidity": 0.2
             }
            },
            "type": "barpolar"
           }
          ],
          "carpet": [
           {
            "aaxis": {
             "endlinecolor": "#2a3f5f",
             "gridcolor": "white",
             "linecolor": "white",
             "minorgridcolor": "white",
             "startlinecolor": "#2a3f5f"
            },
            "baxis": {
             "endlinecolor": "#2a3f5f",
             "gridcolor": "white",
             "linecolor": "white",
             "minorgridcolor": "white",
             "startlinecolor": "#2a3f5f"
            },
            "type": "carpet"
           }
          ],
          "choropleth": [
           {
            "colorbar": {
             "outlinewidth": 0,
             "ticks": ""
            },
            "type": "choropleth"
           }
          ],
          "contour": [
           {
            "colorbar": {
             "outlinewidth": 0,
             "ticks": ""
            },
            "colorscale": [
             [
              0,
              "#0d0887"
             ],
             [
              0.1111111111111111,
              "#46039f"
             ],
             [
              0.2222222222222222,
              "#7201a8"
             ],
             [
              0.3333333333333333,
              "#9c179e"
             ],
             [
              0.4444444444444444,
              "#bd3786"
             ],
             [
              0.5555555555555556,
              "#d8576b"
             ],
             [
              0.6666666666666666,
              "#ed7953"
             ],
             [
              0.7777777777777778,
              "#fb9f3a"
             ],
             [
              0.8888888888888888,
              "#fdca26"
             ],
             [
              1,
              "#f0f921"
             ]
            ],
            "type": "contour"
           }
          ],
          "contourcarpet": [
           {
            "colorbar": {
             "outlinewidth": 0,
             "ticks": ""
            },
            "type": "contourcarpet"
           }
          ],
          "heatmap": [
           {
            "colorbar": {
             "outlinewidth": 0,
             "ticks": ""
            },
            "colorscale": [
             [
              0,
              "#0d0887"
             ],
             [
              0.1111111111111111,
              "#46039f"
             ],
             [
              0.2222222222222222,
              "#7201a8"
             ],
             [
              0.3333333333333333,
              "#9c179e"
             ],
             [
              0.4444444444444444,
              "#bd3786"
             ],
             [
              0.5555555555555556,
              "#d8576b"
             ],
             [
              0.6666666666666666,
              "#ed7953"
             ],
             [
              0.7777777777777778,
              "#fb9f3a"
             ],
             [
              0.8888888888888888,
              "#fdca26"
             ],
             [
              1,
              "#f0f921"
             ]
            ],
            "type": "heatmap"
           }
          ],
          "histogram": [
           {
            "marker": {
             "pattern": {
              "fillmode": "overlay",
              "size": 10,
              "solidity": 0.2
             }
            },
            "type": "histogram"
           }
          ],
          "histogram2d": [
           {
            "colorbar": {
             "outlinewidth": 0,
             "ticks": ""
            },
            "colorscale": [
             [
              0,
              "#0d0887"
             ],
             [
              0.1111111111111111,
              "#46039f"
             ],
             [
              0.2222222222222222,
              "#7201a8"
             ],
             [
              0.3333333333333333,
              "#9c179e"
             ],
             [
              0.4444444444444444,
              "#bd3786"
             ],
             [
              0.5555555555555556,
              "#d8576b"
             ],
             [
              0.6666666666666666,
              "#ed7953"
             ],
             [
              0.7777777777777778,
              "#fb9f3a"
             ],
             [
              0.8888888888888888,
              "#fdca26"
             ],
             [
              1,
              "#f0f921"
             ]
            ],
            "type": "histogram2d"
           }
          ],
          "histogram2dcontour": [
           {
            "colorbar": {
             "outlinewidth": 0,
             "ticks": ""
            },
            "colorscale": [
             [
              0,
              "#0d0887"
             ],
             [
              0.1111111111111111,
              "#46039f"
             ],
             [
              0.2222222222222222,
              "#7201a8"
             ],
             [
              0.3333333333333333,
              "#9c179e"
             ],
             [
              0.4444444444444444,
              "#bd3786"
             ],
             [
              0.5555555555555556,
              "#d8576b"
             ],
             [
              0.6666666666666666,
              "#ed7953"
             ],
             [
              0.7777777777777778,
              "#fb9f3a"
             ],
             [
              0.8888888888888888,
              "#fdca26"
             ],
             [
              1,
              "#f0f921"
             ]
            ],
            "type": "histogram2dcontour"
           }
          ],
          "mesh3d": [
           {
            "colorbar": {
             "outlinewidth": 0,
             "ticks": ""
            },
            "type": "mesh3d"
           }
          ],
          "parcoords": [
           {
            "line": {
             "colorbar": {
              "outlinewidth": 0,
              "ticks": ""
             }
            },
            "type": "parcoords"
           }
          ],
          "pie": [
           {
            "automargin": true,
            "type": "pie"
           }
          ],
          "scatter": [
           {
            "fillpattern": {
             "fillmode": "overlay",
             "size": 10,
             "solidity": 0.2
            },
            "type": "scatter"
           }
          ],
          "scatter3d": [
           {
            "line": {
             "colorbar": {
              "outlinewidth": 0,
              "ticks": ""
             }
            },
            "marker": {
             "colorbar": {
              "outlinewidth": 0,
              "ticks": ""
             }
            },
            "type": "scatter3d"
           }
          ],
          "scattercarpet": [
           {
            "marker": {
             "colorbar": {
              "outlinewidth": 0,
              "ticks": ""
             }
            },
            "type": "scattercarpet"
           }
          ],
          "scattergeo": [
           {
            "marker": {
             "colorbar": {
              "outlinewidth": 0,
              "ticks": ""
             }
            },
            "type": "scattergeo"
           }
          ],
          "scattergl": [
           {
            "marker": {
             "colorbar": {
              "outlinewidth": 0,
              "ticks": ""
             }
            },
            "type": "scattergl"
           }
          ],
          "scattermap": [
           {
            "marker": {
             "colorbar": {
              "outlinewidth": 0,
              "ticks": ""
             }
            },
            "type": "scattermap"
           }
          ],
          "scattermapbox": [
           {
            "marker": {
             "colorbar": {
              "outlinewidth": 0,
              "ticks": ""
             }
            },
            "type": "scattermapbox"
           }
          ],
          "scatterpolar": [
           {
            "marker": {
             "colorbar": {
              "outlinewidth": 0,
              "ticks": ""
             }
            },
            "type": "scatterpolar"
           }
          ],
          "scatterpolargl": [
           {
            "marker": {
             "colorbar": {
              "outlinewidth": 0,
              "ticks": ""
             }
            },
            "type": "scatterpolargl"
           }
          ],
          "scatterternary": [
           {
            "marker": {
             "colorbar": {
              "outlinewidth": 0,
              "ticks": ""
             }
            },
            "type": "scatterternary"
           }
          ],
          "surface": [
           {
            "colorbar": {
             "outlinewidth": 0,
             "ticks": ""
            },
            "colorscale": [
             [
              0,
              "#0d0887"
             ],
             [
              0.1111111111111111,
              "#46039f"
             ],
             [
              0.2222222222222222,
              "#7201a8"
             ],
             [
              0.3333333333333333,
              "#9c179e"
             ],
             [
              0.4444444444444444,
              "#bd3786"
             ],
             [
              0.5555555555555556,
              "#d8576b"
             ],
             [
              0.6666666666666666,
              "#ed7953"
             ],
             [
              0.7777777777777778,
              "#fb9f3a"
             ],
             [
              0.8888888888888888,
              "#fdca26"
             ],
             [
              1,
              "#f0f921"
             ]
            ],
            "type": "surface"
           }
          ],
          "table": [
           {
            "cells": {
             "fill": {
              "color": "#EBF0F8"
             },
             "line": {
              "color": "white"
             }
            },
            "header": {
             "fill": {
              "color": "#C8D4E3"
             },
             "line": {
              "color": "white"
             }
            },
            "type": "table"
           }
          ]
         },
         "layout": {
          "annotationdefaults": {
           "arrowcolor": "#2a3f5f",
           "arrowhead": 0,
           "arrowwidth": 1
          },
          "autotypenumbers": "strict",
          "coloraxis": {
           "colorbar": {
            "outlinewidth": 0,
            "ticks": ""
           }
          },
          "colorscale": {
           "diverging": [
            [
             0,
             "#8e0152"
            ],
            [
             0.1,
             "#c51b7d"
            ],
            [
             0.2,
             "#de77ae"
            ],
            [
             0.3,
             "#f1b6da"
            ],
            [
             0.4,
             "#fde0ef"
            ],
            [
             0.5,
             "#f7f7f7"
            ],
            [
             0.6,
             "#e6f5d0"
            ],
            [
             0.7,
             "#b8e186"
            ],
            [
             0.8,
             "#7fbc41"
            ],
            [
             0.9,
             "#4d9221"
            ],
            [
             1,
             "#276419"
            ]
           ],
           "sequential": [
            [
             0,
             "#0d0887"
            ],
            [
             0.1111111111111111,
             "#46039f"
            ],
            [
             0.2222222222222222,
             "#7201a8"
            ],
            [
             0.3333333333333333,
             "#9c179e"
            ],
            [
             0.4444444444444444,
             "#bd3786"
            ],
            [
             0.5555555555555556,
             "#d8576b"
            ],
            [
             0.6666666666666666,
             "#ed7953"
            ],
            [
             0.7777777777777778,
             "#fb9f3a"
            ],
            [
             0.8888888888888888,
             "#fdca26"
            ],
            [
             1,
             "#f0f921"
            ]
           ],
           "sequentialminus": [
            [
             0,
             "#0d0887"
            ],
            [
             0.1111111111111111,
             "#46039f"
            ],
            [
             0.2222222222222222,
             "#7201a8"
            ],
            [
             0.3333333333333333,
             "#9c179e"
            ],
            [
             0.4444444444444444,
             "#bd3786"
            ],
            [
             0.5555555555555556,
             "#d8576b"
            ],
            [
             0.6666666666666666,
             "#ed7953"
            ],
            [
             0.7777777777777778,
             "#fb9f3a"
            ],
            [
             0.8888888888888888,
             "#fdca26"
            ],
            [
             1,
             "#f0f921"
            ]
           ]
          },
          "colorway": [
           "#636efa",
           "#EF553B",
           "#00cc96",
           "#ab63fa",
           "#FFA15A",
           "#19d3f3",
           "#FF6692",
           "#B6E880",
           "#FF97FF",
           "#FECB52"
          ],
          "font": {
           "color": "#2a3f5f"
          },
          "geo": {
           "bgcolor": "white",
           "lakecolor": "white",
           "landcolor": "#E5ECF6",
           "showlakes": true,
           "showland": true,
           "subunitcolor": "white"
          },
          "hoverlabel": {
           "align": "left"
          },
          "hovermode": "closest",
          "mapbox": {
           "style": "light"
          },
          "paper_bgcolor": "white",
          "plot_bgcolor": "#E5ECF6",
          "polar": {
           "angularaxis": {
            "gridcolor": "white",
            "linecolor": "white",
            "ticks": ""
           },
           "bgcolor": "#E5ECF6",
           "radialaxis": {
            "gridcolor": "white",
            "linecolor": "white",
            "ticks": ""
           }
          },
          "scene": {
           "xaxis": {
            "backgroundcolor": "#E5ECF6",
            "gridcolor": "white",
            "gridwidth": 2,
            "linecolor": "white",
            "showbackground": true,
            "ticks": "",
            "zerolinecolor": "white"
           },
           "yaxis": {
            "backgroundcolor": "#E5ECF6",
            "gridcolor": "white",
            "gridwidth": 2,
            "linecolor": "white",
            "showbackground": true,
            "ticks": "",
            "zerolinecolor": "white"
           },
           "zaxis": {
            "backgroundcolor": "#E5ECF6",
            "gridcolor": "white",
            "gridwidth": 2,
            "linecolor": "white",
            "showbackground": true,
            "ticks": "",
            "zerolinecolor": "white"
           }
          },
          "shapedefaults": {
           "line": {
            "color": "#2a3f5f"
           }
          },
          "ternary": {
           "aaxis": {
            "gridcolor": "white",
            "linecolor": "white",
            "ticks": ""
           },
           "baxis": {
            "gridcolor": "white",
            "linecolor": "white",
            "ticks": ""
           },
           "bgcolor": "#E5ECF6",
           "caxis": {
            "gridcolor": "white",
            "linecolor": "white",
            "ticks": ""
           }
          },
          "title": {
           "x": 0.05
          },
          "xaxis": {
           "automargin": true,
           "gridcolor": "white",
           "linecolor": "white",
           "ticks": "",
           "title": {
            "standoff": 15
           },
           "zerolinecolor": "white",
           "zerolinewidth": 2
          },
          "yaxis": {
           "automargin": true,
           "gridcolor": "white",
           "linecolor": "white",
           "ticks": "",
           "title": {
            "standoff": 15
           },
           "zerolinecolor": "white",
           "zerolinewidth": 2
          }
         }
        },
        "width": 500,
        "xaxis": {
         "autorange": false,
         "exponentformat": "e",
         "linecolor": "black",
         "linewidth": 1,
         "mirror": false,
         "range": [
          -0.5178339004516601,
          26.409528923034667
         ],
         "showexponent": "all",
         "showline": true,
         "side": "bottom",
         "ticks": "outside",
         "title": {
          "text": "Birth"
         },
         "type": "linear",
         "zeroline": true
        },
        "yaxis": {
         "autorange": false,
         "exponentformat": "e",
         "linecolor": "black",
         "linewidth": 1,
         "mirror": false,
         "range": [
          -0.5178339004516601,
          26.409528923034667
         ],
         "scaleanchor": "x",
         "scaleratio": 1,
         "showexponent": "all",
         "showline": true,
         "side": "left",
         "ticks": "outside",
         "title": {
          "text": "Death"
         },
         "type": "linear",
         "zeroline": true
        }
       }
      }
     },
     "metadata": {},
     "output_type": "display_data"
=======
     "ename": "NameError",
     "evalue": "name 'SingleTakensEmbedding' is not defined",
     "output_type": "error",
     "traceback": [
      "\u001b[1;31m---------------------------------------------------------------------------\u001b[0m",
      "\u001b[1;31mNameError\u001b[0m                                 Traceback (most recent call last)",
      "Cell \u001b[1;32mIn[15], line 11\u001b[0m\n\u001b[0;32m      9\u001b[0m embedding_time_delay \u001b[38;5;241m=\u001b[39m \u001b[38;5;241m30\u001b[39m\n\u001b[0;32m     10\u001b[0m stride \u001b[38;5;241m=\u001b[39m \u001b[38;5;241m5\u001b[39m\n\u001b[1;32m---> 11\u001b[0m diagrama, features, plot_cloud \u001b[38;5;241m=\u001b[39m \u001b[43mmi_tda\u001b[49m\u001b[38;5;241;43m.\u001b[39;49m\u001b[43mhomologia_persistente\u001b[49m\u001b[43m(\u001b[49m\u001b[43mX_univariate\u001b[49m\u001b[43m,\u001b[49m\u001b[43m \u001b[49m\u001b[43membedding_dimension\u001b[49m\u001b[43m \u001b[49m\u001b[38;5;241;43m=\u001b[39;49m\u001b[43m \u001b[49m\u001b[43membedding_dimension\u001b[49m\u001b[43m,\u001b[49m\u001b[43m \u001b[49m\u001b[43membedding_time_delay\u001b[49m\u001b[43m \u001b[49m\u001b[38;5;241;43m=\u001b[39;49m\u001b[43m \u001b[49m\u001b[43membedding_time_delay\u001b[49m\u001b[43m,\u001b[49m\u001b[43m \u001b[49m\u001b[43mwindow_size\u001b[49m\u001b[43m \u001b[49m\u001b[38;5;241;43m=\u001b[39;49m\u001b[43m \u001b[49m\u001b[38;5;241;43m100\u001b[39;49m\u001b[43m,\u001b[49m\u001b[43m  \u001b[49m\u001b[43mstride\u001b[49m\u001b[43m \u001b[49m\u001b[38;5;241;43m=\u001b[39;49m\u001b[43m \u001b[49m\u001b[43mstride\u001b[49m\u001b[43m)\u001b[49m\n\u001b[0;32m     13\u001b[0m \u001b[38;5;66;03m# plots\u001b[39;00m\n\u001b[0;32m     14\u001b[0m plot_diagram(diagrama)\n",
      "Cell \u001b[1;32mIn[14], line 30\u001b[0m, in \u001b[0;36mAnalisisTDA.homologia_persistente\u001b[1;34m(self, x_datos, y_datos, embedding_dimension, embedding_time_delay, window_size, stride)\u001b[0m\n\u001b[0;32m     28\u001b[0m     embedder \u001b[38;5;241m=\u001b[39m TakensEmbedding(time_delay\u001b[38;5;241m=\u001b[39membedding_time_delay, dimension\u001b[38;5;241m=\u001b[39membedding_dimension, stride\u001b[38;5;241m=\u001b[39mstride)\n\u001b[0;32m     29\u001b[0m \u001b[38;5;28;01melif\u001b[39;00m \u001b[38;5;28mself\u001b[39m\u001b[38;5;241m.\u001b[39mm_embedder \u001b[38;5;241m==\u001b[39m \u001b[38;5;124m\"\u001b[39m\u001b[38;5;124mTK\u001b[39m\u001b[38;5;124m\"\u001b[39m \u001b[38;5;129;01mor\u001b[39;00m (\u001b[38;5;28mself\u001b[39m\u001b[38;5;241m.\u001b[39mm_univariate \u001b[38;5;129;01mand\u001b[39;00m \u001b[38;5;28mself\u001b[39m\u001b[38;5;241m.\u001b[39mm_option_uni \u001b[38;5;241m==\u001b[39m \u001b[38;5;241m2\u001b[39m):\n\u001b[1;32m---> 30\u001b[0m     embedder \u001b[38;5;241m=\u001b[39m \u001b[43mSingleTakensEmbedding\u001b[49m(time_delay\u001b[38;5;241m=\u001b[39membedding_time_delay, dimension\u001b[38;5;241m=\u001b[39membedding_dimension, stride\u001b[38;5;241m=\u001b[39mstride)\n\u001b[0;32m     31\u001b[0m \u001b[38;5;28;01melif\u001b[39;00m \u001b[38;5;28mself\u001b[39m\u001b[38;5;241m.\u001b[39mm_embedder \u001b[38;5;241m==\u001b[39m \u001b[38;5;124m\"\u001b[39m\u001b[38;5;124mSW\u001b[39m\u001b[38;5;124m\"\u001b[39m:\n\u001b[0;32m     32\u001b[0m     embedder \u001b[38;5;241m=\u001b[39m SlidingWindow(size\u001b[38;5;241m=\u001b[39membedding_dimension, stride\u001b[38;5;241m=\u001b[39mstride)\n",
      "\u001b[1;31mNameError\u001b[0m: name 'SingleTakensEmbedding' is not defined"
     ]
>>>>>>> Stashed changes
    }
   ],
   "source": [
    "from gtda.plotting import plot_diagram, plot_point_cloud\n",
    "\n",
    "\n",
    "mi_tda = AnalisisTDA(embedding_type = \"TK\", univariate = True, option_uni = 2)\n",
    "X_univariate = np.array(df[\"precio_frambuesa\"].copy()) # X_train[\"precio_frambuesa\"]\n",
    "\n",
    "# homologia_persistente(self, datos, embedding_dimension = 2, embedding_time_delay = 1, window_size = 100,  stride = 4)\n",
    "embedding_dimension = 30\n",
    "embedding_time_delay = 30\n",
    "stride = 5\n",
    "diagrama, features, plot_cloud = mi_tda.homologia_persistente(X_univariate, embedding_dimension = embedding_dimension, embedding_time_delay = embedding_time_delay, window_size = 100,  stride = stride)\n",
    "\n",
    "# plots\n",
    "plot_diagram(diagrama)"
   ]
  },
  {
   "cell_type": "code",
<<<<<<< Updated upstream
   "execution_count": 6,
=======
   "execution_count": null,
>>>>>>> Stashed changes
   "id": "64643edc",
   "metadata": {},
   "outputs": [
    {
     "data": {
      "application/vnd.plotly.v1+json": {
       "config": {
        "plotlyServerURL": "https://plot.ly"
       },
       "data": [
        {
         "marker": {
          "color": [
           0,
           1,
           2,
           3,
           4,
           5,
           6,
           7,
           8,
           9,
           10,
           11,
           12,
           13,
           14,
           15,
           16,
           17,
           18,
           19,
           20,
           21,
           22,
           23,
           24,
           25,
           26,
           27,
           28,
           29,
           30,
           31,
           32,
           33,
           34,
           35,
           36,
           37,
           38,
           39,
           40,
           41,
           42,
           43,
           44,
           45,
           46,
           47,
           48,
           49,
           50,
           51,
           52,
           53,
           54,
           55,
           56,
           57,
           58,
           59,
           60,
           61,
           62,
           63,
           64,
           65,
           66,
           67,
           68,
           69,
           70,
           71,
           72,
           73,
           74,
           75,
           76,
           77,
           78,
           79,
           80,
           81,
           82,
           83,
           84,
           85,
           86,
           87,
           88,
           89,
           90,
           91,
           92,
           93,
           94,
           95,
           96,
           97,
           98,
           99,
           100,
           101,
           102,
           103,
           104,
           105,
           106,
           107,
           108,
           109,
           110,
           111,
           112,
           113,
           114,
           115,
           116,
           117,
           118,
           119,
           120,
           121,
           122,
           123,
           124,
           125,
           126,
           127,
           128,
           129,
           130,
           131,
           132,
           133,
           134,
           135,
           136,
           137,
           138,
           139,
           140,
           141,
           142,
           143,
           144,
           145,
           146,
           147,
           148,
           149,
           150,
           151,
           152,
           153,
           154,
           155,
           156,
           157,
           158,
           159,
           160,
           161,
           162,
           163,
           164,
           165,
           166
          ],
          "colorscale": [
           [
            0,
            "#440154"
           ],
           [
            0.1111111111111111,
            "#482878"
           ],
           [
            0.2222222222222222,
            "#3e4989"
           ],
           [
            0.3333333333333333,
            "#31688e"
           ],
           [
            0.4444444444444444,
            "#26828e"
           ],
           [
            0.5555555555555556,
            "#1f9e89"
           ],
           [
            0.6666666666666666,
            "#35b779"
           ],
           [
            0.7777777777777778,
            "#6ece58"
           ],
           [
            0.8888888888888888,
            "#b5de2b"
           ],
           [
            1,
            "#fde725"
           ]
          ],
          "opacity": 0.8,
          "size": 4
         },
         "mode": "markers",
         "type": "scatter",
         "x": {
          "bdata": "IHzXe+QoH8AI0AVIgrUpwNddOr2BBDPAEorbYl1cLMCYYXJe2zsrwJs9LxICXifA9Xe78cc1GcCHcoSuXQXyP+EtJOR/Iry/aPx5ANGgEUCKG2Q5Tg0hQLFveC8LzS5AHFjyvqgQLEAwzJLWlsItQCLufP7OmixAbl3Is9CSKEBpXpaiQQUXQLlsfHqz8hRAKTw4mbxl6D8DGP9fjgUOwLANJi69HSLAbii2CUehMcDiHbo4C7MqwLk2tbiUvjjAVHeXrIl6NcA4wLaznUMnwPmbnbvY/iDAUfcViJ5OLcAKLF14CDEhwH6nMVAMkvq/nNxC1e0zIUA0J0I/IMwnQOz2ZHSE6TlAHbnFubafOEDx0MgMZvQ0QB001XXQmyhAT51yZ7xRIkAHDlNmGgIvQHYq9R8b4SFAaf13TrCF+D8Q/0G5YsMfwPfmEJTTdCbA+9wnw7pCNsAVyDl0VQ41wM/k+2VMISvAje5WNvsoJ8BUrSwlnNkgwBsT/9D7Li3ATqFWwT4gHsBAlsiGS1QSQLs6oKdiWiFAm+yAQ5USNUCVQiPH/so1QAQneDD6aDRAYiJYx/d/LEBfW9wCD4EoQAC+kFiGAzdAWJs8Up+DMECOc6U0q9sgQHXKUnqS1yrAoPfpuuZUM8DHbN+xBZEmwCoGe2HU0SrAK3+AkwNuNMADOfiSKvo1wI7KPQm7VTXAAySeEDK0IMAXXyjUrUoRwOWRFTVYbiBA9KkHwUxULkCZlaleIKk0QLQRmWiEBChAw+EiY9Y+LEByMRVk8KA2QFmBdUYU/jdAuQ3L2A9mKECfL5VW6AYiQIEg7LlL6RNAh68N894yG8BljP3qZOIpwIJfJI5ELiDAyZjEf/usJsAyXcYHzuAqwDDc9BkrVzfAOrLtX7prOMAfhLPz/PImwASE8N6ajiDA2k+4oOLi9T9tjfDERlMfQDVRWBYtHytA7KN+YcqmIUCdOFHzWyAoQDswMxJnnTdAzxniX844O0AbqgQIdzE8QLUyqylVyzBA8+ATY+J/IkBFPYGdcpATQJOsQtE3ZNk/cuwWIF06BEDkkD7Tl70TwKy90yXSwifA3lmtMIDvKsChJkabcWAswNfYWQaApDTAdxvXjMDQLMA2+2aj5uYawNXq59T7mBDA5IPIT1U41j/AHcPBvjnsvwqKhsFcCRxAKLagwfY7KEB7kGqrOlwsQM4o9abuxS1AIl9i4mOYMkBSL0iIzx0qQJGSXJRguyFAV3DJZ2o3E0A3emrKLYrTP+ctUmBXstI/KD9c6mTCH8CLg38KMeQmwA/YFrbq/SrAQz9Jxf4jNMCjdGUMklowwDX58r+C2yXAZth5quZCIMCX1Q9p3D8QwAkhv6zd5x/Arm9czV+69j8Xz786uWwlQDxI1qjZYThAD+ggWsXcOUC9P/8oFdc4QCzpPZrpRixASKq2Mz0NNkAxO4Y2gyUzQEcVttqbyyxAm667D1Zgyz+M+getmRoRwBcCmS0wdDTA/TPJDSPON8BWgV8xmck4wD9KQbUDYCzAEr3w8vrZKsAW2bP/tlg2wJ0tSZ3BBDPAqYjhw/6UK8Bd6ACFK/bgP2CLLM/tERRAkESushrmMkDTm3BHWtE1QBCvOSGMoTZAG/hlYTXFLUC3zDDz8jcsQASRPDXawTdAimzzXQr0M0DnoGMa+3MsQHvlaNT6WL8/LttT5vWzKsAZUHrxT64xwLCOaXbuPTTAJ8GtQegZK8AMdoWzW18swMiI5UDPqjvA/q0YwPu4OcA0v3bshjg1wA==",
          "dtype": "f8"
         },
         "y": {
          "bdata": "QMwMbR9MJ0B+UwHbNcsbQCh2ZkSrseu/M4piRTDF6D+T8DYDB+cLwOXgDh2Uhx3A6VywFgmvKsA8L/ZO/rIzwCM2y7dx4SrABAB73gXYKcCfb5QpyzgmwBbg8L09UBXARFzpEFu5EcDUJImLcM/Lv0y+waoCLBBAE/mZpNEVIEDkFxXAh54wQCS5AgeaSSpAGnWimzzpK0CqAMW99NgqQM0tbGBPwyVA8C8TkLkVE0A62hpf6p0TQBybERJYbiBArsgX4K5oAEDfOWfUttAdwGW9qEBTKSXAe41WfvEnOsDvUla6J9o4wNU82IToFTXAD6P8YAUgJsDSPAnw1zsgwIDw5pnn5i7AmdAExt6DIsCqsURyLAwBwAn+cJWcASBAaI1uQtY9JkC3tFpNVM03QGtHTkZ2cjZATodVU2zqMkCYXuvrkxonQFxGbm9hMSFAfI4uZiiwL0D9hEG8vEEiQFPcslASOg3AsnqTlokZHsDBZEhEPEQlwG+UnfN+2TTATdBZVTONM8ASOaYuPb8pwJmv3ecEBybA0nZ9pE6bNsDrPZlRwo8wwKUarOzWuyHAZDnjaWDVEEAjsc/V8SUgQNUj9FIKkjNAML2XNugaNEAbbq9PaLEyQIZGBeggJDRANJDt23qRM0C+fKIgRQ4hQMgdyX509xJAwx5gczsnH8AOB8hW/OstwKyh6rITpDTAjVUo0exeJcD641cIVWcpwFY6V7J9/TTAbMD1OlWuNsDNKtBfOx82wJwjZtI+6x/AE9xJx6q/EMCTtolbWfYfQLsDjhE/pCxAv/Qnjh5KIEByMeJKN3MmQH4HGESEdSpACQhDfYkBN0C913q/n204QEvRmioe6CZAY6eG7/3qIECecExg86MSQKsEgvfwrRvAieKzgTgoKcB4nRBJPKoewOGkF6JkeSXAeoqsdUetNcDxwAPUCos5wIWsnlL/4DrA0ffk51TUJcATKWjShaQfwF1t/CjSmvk/qY9eE7xCHkBks4Y2YKApQNHhDfzLmxNAGgLfv30cJkAn29ZZoYMqQBaGybLY7CtAIwcnksckNkAlKm0i8mUvQIZnXZO39R5Aj/y9mERQEkBwj3ojgvbVP+57tbDLdAZAN2LKrunAE8BatvXPN1kowKLeryqPgynAvRNZ0PTlKsDo8Qdl9awywIkEHGSAnCnA7h97IHhdH8A1QmluTRgQwInydr00Wcs/+hogmxOk8L8Cb2FdtFgcQFNZodq0pyZAgtcPCHuRKkDzcL8UDu0rQOK+Io1a5TBAOBaHEpMvJ0AnE6BU8KMgQD/XDgFp/BFAxNLZXDKFI0CQijkqkavkP2z72BtKAyHAXstA/qitJcAsBqQXR5EpwGbzyXXthTLASUtLACrGLcDdRUQv+4cjwA63HHe3eTDAIookVTJ/KMBRiRIi8i0bwI4CPF0pJhJAq0i1mY+sNUA72wvazSY5QBg8y0X4LzpAc4I3ZvzsK0CG2NYLn4oqQE4DPIJsrTZAjtMYIqLHM0BEGXe/Se8tQNRpSXiO28U/5WZEvwJCEMB3lqeyGjQzwHL1BcDgJDbAj0akvzDjNsBcrFRz0eUqwESUkGSifCnA71+AVTf9NsB+FUgpsZszwKO/jnvCjizAamsMt1G12D8LCT/D7nkSQLMQrVbC4DFAaRxxEFxzNECWqcQO6wo1QDSRX6ej7CtAr8X0eDaYO0CqmcAoaxc6QKNF2nbyDTZAgntVxy5UEUCJLac94KW1Pz33sOB4gCnAaSw+9J+qMMATJ05eFuwywA==",
          "dtype": "f8"
         }
        }
       ],
       "layout": {
        "height": 600,
        "plot_bgcolor": "white",
        "template": {
         "data": {
          "bar": [
           {
            "error_x": {
             "color": "#2a3f5f"
            },
            "error_y": {
             "color": "#2a3f5f"
            },
            "marker": {
             "line": {
              "color": "#E5ECF6",
              "width": 0.5
             },
             "pattern": {
              "fillmode": "overlay",
              "size": 10,
              "solidity": 0.2
             }
            },
            "type": "bar"
           }
          ],
          "barpolar": [
           {
            "marker": {
             "line": {
              "color": "#E5ECF6",
              "width": 0.5
             },
             "pattern": {
              "fillmode": "overlay",
              "size": 10,
              "solidity": 0.2
             }
            },
            "type": "barpolar"
           }
          ],
          "carpet": [
           {
            "aaxis": {
             "endlinecolor": "#2a3f5f",
             "gridcolor": "white",
             "linecolor": "white",
             "minorgridcolor": "white",
             "startlinecolor": "#2a3f5f"
            },
            "baxis": {
             "endlinecolor": "#2a3f5f",
             "gridcolor": "white",
             "linecolor": "white",
             "minorgridcolor": "white",
             "startlinecolor": "#2a3f5f"
            },
            "type": "carpet"
           }
          ],
          "choropleth": [
           {
            "colorbar": {
             "outlinewidth": 0,
             "ticks": ""
            },
            "type": "choropleth"
           }
          ],
          "contour": [
           {
            "colorbar": {
             "outlinewidth": 0,
             "ticks": ""
            },
            "colorscale": [
             [
              0,
              "#0d0887"
             ],
             [
              0.1111111111111111,
              "#46039f"
             ],
             [
              0.2222222222222222,
              "#7201a8"
             ],
             [
              0.3333333333333333,
              "#9c179e"
             ],
             [
              0.4444444444444444,
              "#bd3786"
             ],
             [
              0.5555555555555556,
              "#d8576b"
             ],
             [
              0.6666666666666666,
              "#ed7953"
             ],
             [
              0.7777777777777778,
              "#fb9f3a"
             ],
             [
              0.8888888888888888,
              "#fdca26"
             ],
             [
              1,
              "#f0f921"
             ]
            ],
            "type": "contour"
           }
          ],
          "contourcarpet": [
           {
            "colorbar": {
             "outlinewidth": 0,
             "ticks": ""
            },
            "type": "contourcarpet"
           }
          ],
          "heatmap": [
           {
            "colorbar": {
             "outlinewidth": 0,
             "ticks": ""
            },
            "colorscale": [
             [
              0,
              "#0d0887"
             ],
             [
              0.1111111111111111,
              "#46039f"
             ],
             [
              0.2222222222222222,
              "#7201a8"
             ],
             [
              0.3333333333333333,
              "#9c179e"
             ],
             [
              0.4444444444444444,
              "#bd3786"
             ],
             [
              0.5555555555555556,
              "#d8576b"
             ],
             [
              0.6666666666666666,
              "#ed7953"
             ],
             [
              0.7777777777777778,
              "#fb9f3a"
             ],
             [
              0.8888888888888888,
              "#fdca26"
             ],
             [
              1,
              "#f0f921"
             ]
            ],
            "type": "heatmap"
           }
          ],
          "histogram": [
           {
            "marker": {
             "pattern": {
              "fillmode": "overlay",
              "size": 10,
              "solidity": 0.2
             }
            },
            "type": "histogram"
           }
          ],
          "histogram2d": [
           {
            "colorbar": {
             "outlinewidth": 0,
             "ticks": ""
            },
            "colorscale": [
             [
              0,
              "#0d0887"
             ],
             [
              0.1111111111111111,
              "#46039f"
             ],
             [
              0.2222222222222222,
              "#7201a8"
             ],
             [
              0.3333333333333333,
              "#9c179e"
             ],
             [
              0.4444444444444444,
              "#bd3786"
             ],
             [
              0.5555555555555556,
              "#d8576b"
             ],
             [
              0.6666666666666666,
              "#ed7953"
             ],
             [
              0.7777777777777778,
              "#fb9f3a"
             ],
             [
              0.8888888888888888,
              "#fdca26"
             ],
             [
              1,
              "#f0f921"
             ]
            ],
            "type": "histogram2d"
           }
          ],
          "histogram2dcontour": [
           {
            "colorbar": {
             "outlinewidth": 0,
             "ticks": ""
            },
            "colorscale": [
             [
              0,
              "#0d0887"
             ],
             [
              0.1111111111111111,
              "#46039f"
             ],
             [
              0.2222222222222222,
              "#7201a8"
             ],
             [
              0.3333333333333333,
              "#9c179e"
             ],
             [
              0.4444444444444444,
              "#bd3786"
             ],
             [
              0.5555555555555556,
              "#d8576b"
             ],
             [
              0.6666666666666666,
              "#ed7953"
             ],
             [
              0.7777777777777778,
              "#fb9f3a"
             ],
             [
              0.8888888888888888,
              "#fdca26"
             ],
             [
              1,
              "#f0f921"
             ]
            ],
            "type": "histogram2dcontour"
           }
          ],
          "mesh3d": [
           {
            "colorbar": {
             "outlinewidth": 0,
             "ticks": ""
            },
            "type": "mesh3d"
           }
          ],
          "parcoords": [
           {
            "line": {
             "colorbar": {
              "outlinewidth": 0,
              "ticks": ""
             }
            },
            "type": "parcoords"
           }
          ],
          "pie": [
           {
            "automargin": true,
            "type": "pie"
           }
          ],
          "scatter": [
           {
            "fillpattern": {
             "fillmode": "overlay",
             "size": 10,
             "solidity": 0.2
            },
            "type": "scatter"
           }
          ],
          "scatter3d": [
           {
            "line": {
             "colorbar": {
              "outlinewidth": 0,
              "ticks": ""
             }
            },
            "marker": {
             "colorbar": {
              "outlinewidth": 0,
              "ticks": ""
             }
            },
            "type": "scatter3d"
           }
          ],
          "scattercarpet": [
           {
            "marker": {
             "colorbar": {
              "outlinewidth": 0,
              "ticks": ""
             }
            },
            "type": "scattercarpet"
           }
          ],
          "scattergeo": [
           {
            "marker": {
             "colorbar": {
              "outlinewidth": 0,
              "ticks": ""
             }
            },
            "type": "scattergeo"
           }
          ],
          "scattergl": [
           {
            "marker": {
             "colorbar": {
              "outlinewidth": 0,
              "ticks": ""
             }
            },
            "type": "scattergl"
           }
          ],
          "scattermap": [
           {
            "marker": {
             "colorbar": {
              "outlinewidth": 0,
              "ticks": ""
             }
            },
            "type": "scattermap"
           }
          ],
          "scattermapbox": [
           {
            "marker": {
             "colorbar": {
              "outlinewidth": 0,
              "ticks": ""
             }
            },
            "type": "scattermapbox"
           }
          ],
          "scatterpolar": [
           {
            "marker": {
             "colorbar": {
              "outlinewidth": 0,
              "ticks": ""
             }
            },
            "type": "scatterpolar"
           }
          ],
          "scatterpolargl": [
           {
            "marker": {
             "colorbar": {
              "outlinewidth": 0,
              "ticks": ""
             }
            },
            "type": "scatterpolargl"
           }
          ],
          "scatterternary": [
           {
            "marker": {
             "colorbar": {
              "outlinewidth": 0,
              "ticks": ""
             }
            },
            "type": "scatterternary"
           }
          ],
          "surface": [
           {
            "colorbar": {
             "outlinewidth": 0,
             "ticks": ""
            },
            "colorscale": [
             [
              0,
              "#0d0887"
             ],
             [
              0.1111111111111111,
              "#46039f"
             ],
             [
              0.2222222222222222,
              "#7201a8"
             ],
             [
              0.3333333333333333,
              "#9c179e"
             ],
             [
              0.4444444444444444,
              "#bd3786"
             ],
             [
              0.5555555555555556,
              "#d8576b"
             ],
             [
              0.6666666666666666,
              "#ed7953"
             ],
             [
              0.7777777777777778,
              "#fb9f3a"
             ],
             [
              0.8888888888888888,
              "#fdca26"
             ],
             [
              1,
              "#f0f921"
             ]
            ],
            "type": "surface"
           }
          ],
          "table": [
           {
            "cells": {
             "fill": {
              "color": "#EBF0F8"
             },
             "line": {
              "color": "white"
             }
            },
            "header": {
             "fill": {
              "color": "#C8D4E3"
             },
             "line": {
              "color": "white"
             }
            },
            "type": "table"
           }
          ]
         },
         "layout": {
          "annotationdefaults": {
           "arrowcolor": "#2a3f5f",
           "arrowhead": 0,
           "arrowwidth": 1
          },
          "autotypenumbers": "strict",
          "coloraxis": {
           "colorbar": {
            "outlinewidth": 0,
            "ticks": ""
           }
          },
          "colorscale": {
           "diverging": [
            [
             0,
             "#8e0152"
            ],
            [
             0.1,
             "#c51b7d"
            ],
            [
             0.2,
             "#de77ae"
            ],
            [
             0.3,
             "#f1b6da"
            ],
            [
             0.4,
             "#fde0ef"
            ],
            [
             0.5,
             "#f7f7f7"
            ],
            [
             0.6,
             "#e6f5d0"
            ],
            [
             0.7,
             "#b8e186"
            ],
            [
             0.8,
             "#7fbc41"
            ],
            [
             0.9,
             "#4d9221"
            ],
            [
             1,
             "#276419"
            ]
           ],
           "sequential": [
            [
             0,
             "#0d0887"
            ],
            [
             0.1111111111111111,
             "#46039f"
            ],
            [
             0.2222222222222222,
             "#7201a8"
            ],
            [
             0.3333333333333333,
             "#9c179e"
            ],
            [
             0.4444444444444444,
             "#bd3786"
            ],
            [
             0.5555555555555556,
             "#d8576b"
            ],
            [
             0.6666666666666666,
             "#ed7953"
            ],
            [
             0.7777777777777778,
             "#fb9f3a"
            ],
            [
             0.8888888888888888,
             "#fdca26"
            ],
            [
             1,
             "#f0f921"
            ]
           ],
           "sequentialminus": [
            [
             0,
             "#0d0887"
            ],
            [
             0.1111111111111111,
             "#46039f"
            ],
            [
             0.2222222222222222,
             "#7201a8"
            ],
            [
             0.3333333333333333,
             "#9c179e"
            ],
            [
             0.4444444444444444,
             "#bd3786"
            ],
            [
             0.5555555555555556,
             "#d8576b"
            ],
            [
             0.6666666666666666,
             "#ed7953"
            ],
            [
             0.7777777777777778,
             "#fb9f3a"
            ],
            [
             0.8888888888888888,
             "#fdca26"
            ],
            [
             1,
             "#f0f921"
            ]
           ]
          },
          "colorway": [
           "#636efa",
           "#EF553B",
           "#00cc96",
           "#ab63fa",
           "#FFA15A",
           "#19d3f3",
           "#FF6692",
           "#B6E880",
           "#FF97FF",
           "#FECB52"
          ],
          "font": {
           "color": "#2a3f5f"
          },
          "geo": {
           "bgcolor": "white",
           "lakecolor": "white",
           "landcolor": "#E5ECF6",
           "showlakes": true,
           "showland": true,
           "subunitcolor": "white"
          },
          "hoverlabel": {
           "align": "left"
          },
          "hovermode": "closest",
          "mapbox": {
           "style": "light"
          },
          "paper_bgcolor": "white",
          "plot_bgcolor": "#E5ECF6",
          "polar": {
           "angularaxis": {
            "gridcolor": "white",
            "linecolor": "white",
            "ticks": ""
           },
           "bgcolor": "#E5ECF6",
           "radialaxis": {
            "gridcolor": "white",
            "linecolor": "white",
            "ticks": ""
           }
          },
          "scene": {
           "xaxis": {
            "backgroundcolor": "#E5ECF6",
            "gridcolor": "white",
            "gridwidth": 2,
            "linecolor": "white",
            "showbackground": true,
            "ticks": "",
            "zerolinecolor": "white"
           },
           "yaxis": {
            "backgroundcolor": "#E5ECF6",
            "gridcolor": "white",
            "gridwidth": 2,
            "linecolor": "white",
            "showbackground": true,
            "ticks": "",
            "zerolinecolor": "white"
           },
           "zaxis": {
            "backgroundcolor": "#E5ECF6",
            "gridcolor": "white",
            "gridwidth": 2,
            "linecolor": "white",
            "showbackground": true,
            "ticks": "",
            "zerolinecolor": "white"
           }
          },
          "shapedefaults": {
           "line": {
            "color": "#2a3f5f"
           }
          },
          "ternary": {
           "aaxis": {
            "gridcolor": "white",
            "linecolor": "white",
            "ticks": ""
           },
           "baxis": {
            "gridcolor": "white",
            "linecolor": "white",
            "ticks": ""
           },
           "bgcolor": "#E5ECF6",
           "caxis": {
            "gridcolor": "white",
            "linecolor": "white",
            "ticks": ""
           }
          },
          "title": {
           "x": 0.05
          },
          "xaxis": {
           "automargin": true,
           "gridcolor": "white",
           "linecolor": "white",
           "ticks": "",
           "title": {
            "standoff": 15
           },
           "zerolinecolor": "white",
           "zerolinewidth": 2
          },
          "yaxis": {
           "automargin": true,
           "gridcolor": "white",
           "linecolor": "white",
           "ticks": "",
           "title": {
            "standoff": 15
           },
           "zerolinecolor": "white",
           "zerolinewidth": 2
          }
         }
        },
        "width": 600,
        "xaxis": {
         "anchor": "x",
         "exponentformat": "e",
         "linecolor": "black",
         "linewidth": 1,
         "mirror": false,
         "showexponent": "all",
         "showline": true,
         "side": "bottom",
         "ticks": "outside",
         "title": {
          "text": "0th"
         },
         "type": "linear",
         "zeroline": true
        },
        "yaxis": {
         "anchor": "y",
         "exponentformat": "e",
         "linecolor": "black",
         "linewidth": 1,
         "mirror": false,
         "showexponent": "all",
         "showline": true,
         "side": "left",
         "ticks": "outside",
         "title": {
          "text": "1st"
         },
         "type": "linear",
         "zeroline": true
        }
       }
      }
     },
     "metadata": {},
     "output_type": "display_data"
    }
   ],
   "source": [
    "plot_point_cloud(plot_cloud)"
   ]
  },
  {
   "cell_type": "markdown",
   "id": "a4f637c5",
   "metadata": {},
   "source": [
    "## Actividades para el 27 de Mayo 2025\n",
    "\n",
    "#### Objetivo:\n",
    "Realizar un estudio similar al de ondas gravitacionales, donde se tenian N series de tiempo y se clasificaron las series de tiempo que contenian eventos interesantes o no\n",
    "\n",
    "#### Pasos:\n",
    "1. Note que la clase `AnalisisTDA` está adaptada prácticamente para el caso univariado\n",
    "2. Modificar la clase `DatosAgricolas` para que acepte un parámetro que nos permita generar datos interesantes o no-interesantes\n",
    "3. Un serie interesante es aquella que contiene eventos con cambios de fase\n",
    "4. Hay varias opciones de conversión de los diagramas de persistencia a variables manejables. Modifique `AnalisisTDA` para que sea flexible a dichas opciones\n",
    "5. Explique por que es necesario hacer esta distinción entre una serie univariada y muchas series quizá multivariadas.\n",
    "6. Ya con las clases `AnalisisTDA` y `DatosAgricolas` cree N series de tiempo con y sin datos interesantes y clasifiquélas"
   ]
  },
  {
<<<<<<< Updated upstream
=======
   "cell_type": "code",
   "execution_count": null,
   "id": "b0dbd19b",
   "metadata": {},
   "outputs": [],
   "source": []
  },
  {
   "cell_type": "markdown",
   "id": "dcfab53a",
   "metadata": {},
   "source": [
    "# Intellica sesión 4"
   ]
  },
  {
   "cell_type": "code",
   "execution_count": null,
   "id": "1d92c598",
   "metadata": {},
   "outputs": [],
   "source": [
    "## gRÁFICA LA INTEREACCIÓN DE bROCKERS QUE PODEMOS TRANSFORMAR EN UNA DIAGRAMA DE PERSISTENCIA \n",
    "## Para realizar un análisis más cuántitativo \n",
    "## Podemos encontrar la distancia entre dos diagramas de persistencia - que son para ver que tan similares son dos series de tiempos \n",
    "## Si son muy iguales su distancia es cero o casi cero \n",
    "\n",
    "\n",
    "from gtda.mapper import (make_mapper_pipeline,\n",
    "Projection,plot_static_mapper_graph,cover, CubicalCover)\n",
    "\n",
    "\n",
    "class SimularBrokers:\n",
    "    \"\"\"\n",
    "    clase para brokers: TODO: documentar\n",
    "    \"\"\"\n",
    "    def __init__(self, df, n_brokers = 2):\n",
    "        '''\n",
    "        todo: Documentar\n",
    "        '''\n",
    "        self.m_datos = df\n",
    "        self.m_n_brokers = n_brokers\n",
    "\n",
    "    def red_brokers(self):\n",
    "        '''\n",
    "        TODO: documentar\n",
    "        '''\n",
    "        # red de brokers\n",
    "        brokers = [f'broker_{i}' for i in range(1, self.m_n_brokers+1)]\n",
    "        grafica = nx.Graph()\n",
    "        grafica.add_nodes_from(brokers)\n",
    "        \n",
    "        # conexiones basadas en estrategias\n",
    "        for _, row in df.iterrows():\n",
    "            if row['estrategia_broker'] != 'neutral':\n",
    "                broker1, broker2 = np.random.choice(brokers, 2, replace=False)\n",
    "                if grafica.has_edge(broker1, broker2):\n",
    "                    grafica[broker1][broker2]['weight'] += 1\n",
    "                else:\n",
    "                    grafica.add_edge(broker1, broker2, weight=1)\n",
    "            \n",
    "        return grafica\n",
    "    \n",
    "    def plot_brokers(self, grafica):\n",
    "        '''\n",
    "        TODO: documentar\n",
    "        '''\n",
    "        pos = nx.spring_layout(grafica)\n",
    "        nx.draw_networkx_nodes(grafica, pos, node_size=200, node_color='lightblue')\n",
    "        nx.draw_networkx_edges(grafica, pos, width=1.0, alpha=0.5)\n",
    "        nx.draw_networkx_labels(grafica, pos, font_size=8)\n",
    "        plt.title(\"Red de Brokers\")\n",
    "        plt.show()\n",
    "        # plt.savefig('red_brokers.png')\n",
    "        plt.close()\n",
    "\n",
    "\n",
    "\n",
    "    def mapper_algorithm(self, datos, n_cubiertas=15, overlap=0.3):\n",
    "        \"\"\"\n",
    "        usar el algoritmo mapper. TODO: documentar \n",
    "        \"\"\"\n",
    "        # configurar algoritmo mapper\n",
    "        mapper_algoritmo = make_mapper_pipeline(\n",
    "        filter_func=Projection(columns=[0]),#list(range(datos.shape[1]))),\n",
    "        clusterer=DBSCAN(eps=0.3, min_samples=5),\n",
    "        cover=CubicalCover(n_intervals=n_cubiertas, overlap_frac=overlap),\n",
    "        scaler=MinMaxScaler()\n",
    "        )\n",
    "        \n",
    "        # aplicar mapper\n",
    "        fig = plot_static_mapper_graph(\n",
    "            mapper_algoritmo,\n",
    "            datos\n",
    "        )\n",
    "        return fig\n",
    "\n",
    "\n",
    "\n",
    "datos = DatosAgricolas(params, n_dias=1000, factor=10000).generar_datos()\n",
    "\n",
    "\n",
    "df, eventos = generador.generar_datos()\n",
    "simulador_brokers = SimularBrokers(df, n_brokers=3)\n"
   ]
  },
  {
>>>>>>> Stashed changes
   "cell_type": "markdown",
   "id": "11d3dab3",
   "metadata": {},
   "source": []
  }
 ],
 "metadata": {
  "kernelspec": {
<<<<<<< Updated upstream
   "display_name": "tda",
=======
   "display_name": "tda-env",
>>>>>>> Stashed changes
   "language": "python",
   "name": "python3"
  },
  "language_info": {
   "codemirror_mode": {
    "name": "ipython",
    "version": 3
   },
   "file_extension": ".py",
   "mimetype": "text/x-python",
   "name": "python",
   "nbconvert_exporter": "python",
   "pygments_lexer": "ipython3",
   "version": "3.10.17"
  }
 },
 "nbformat": 4,
 "nbformat_minor": 5
}
