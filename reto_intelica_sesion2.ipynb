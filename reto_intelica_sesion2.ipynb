{
 "cells": [
  {
   "cell_type": "markdown",
   "id": "00e6607e",
   "metadata": {},
   "source": [
    "# TDA de Cambios en Precios y Oferta-Demanda de Productos Perecederos\n",
    "Author: A. Ramirez-Morales (andres.ramirez@tec.mx)\n",
    "\n",
    "\n",
    "En este notebook se implementa:\n",
    "1. Generación avanzada de datos con Monte Carlo\n",
    "2. Análisis TDA completo (homología persistente + Mapper)\n",
    "3. Detección de cambios estructurales con ventanas deslizantes y Takens embedding\n",
    "4. Modelos predictivos híbridos (TDA + ML)\n",
    "\n",
    "### 1. Importación de librerías"
   ]
  },
  {
   "cell_type": "code",
   "execution_count": 1,
   "id": "cf810c56",
   "metadata": {},
   "outputs": [],
   "source": [
    "import numpy as np\n",
    "import pandas as pd\n",
    "import matplotlib.pyplot as plt\n",
    "from sklearn.preprocessing import MinMaxScaler\n",
    "from sklearn.ensemble import RandomForestClassifier\n",
    "from sklearn.model_selection import train_test_split\n",
    "from sklearn.metrics import classification_report\n",
    "from gtda.homology import VietorisRipsPersistence\n",
    "from gtda.plotting import plot_diagram\n",
    "from gtda.mapper import (\n",
    "    make_mapper_pipeline,\n",
    "    Projection,\n",
    "    plot_static_mapper_graph\n",
    ")\n",
    "from sklearn.cluster import DBSCAN\n",
    "from imblearn.over_sampling import SMOTE\n",
    "import networkx as nx\n",
    "np.random.seed(42)\n",
    "plt.style.use('ggplot')"
   ]
  },
  {
   "cell_type": "markdown",
   "id": "a8770606",
   "metadata": {},
   "source": [
    "### 1. Generación de datos\n",
    "\n",
    "Actividades/preguntas:\n",
    "1. Definir los siguientes conceptos: producto perecedero, evento de mercado, brokers, estrategia de broker, tipos de estrageias de broker, variables climaticas, estacionalidad, calidad de producto, elasticidad cruzada\n",
    "2. Comentar (describir) las líneas más importantes y escribir documentación adecuada para la clase `DatosAgricolas`\n",
    "3. En la clase `DatosAgricolas` hay varios parámetros que usted puede ajustar, identifíquelos e interprete ssu efecto en los datos.\n",
    "4. Describa el outcome que espera de la clase `DatosAgricolas`\n",
    "5. Discuta cualesquiera otras informaciones en `DataAgricolas` que puedan ser relevantes.\n",
    "\n",
    "Explicación del código:\n",
    "\n"
   ]
  },
  {
   "cell_type": "code",
   "execution_count": null,
   "id": "ecb9fd54",
   "metadata": {},
   "outputs": [],
   "source": [
    "class DatosAgricolas:\n",
    "    \"\"\"\n",
    "    Simulación de datos para productos agrícolas perecederos\n",
    "    con eventos de mercado, comportamientos de brokers y variables climáticas.\n",
    "    \"\"\"\n",
    "    def __init__(self, params, n_dias=1000, factor=1000,  interesante=True):\n",
    "        self.n_dias = n_dias\n",
    "        self.fechas = pd.date_range(start=\"2023-01-01\", periods=n_dias, freq='D')\n",
    "        self.df = None\n",
    "        self.eventos = None\n",
    "        self.interesante = interesante\n",
    "        # frambuesa data\n",
    "        self.m_precio_frambuesa = params['precio_frambuesa']/factor\n",
    "        self.m_precio_frambuesa_var = params['precio_frambuesa_var']/factor\n",
    "        self.m_volumen_frambuesa = params['volumen_frambuesa']/factor\n",
    "        self.m_volumen_frambuesa_var = params['volumen_frambuesa_var']/factor\n",
    "        # aguacate data\n",
    "        self.m_precio_aguacate = params['precio_aguacate']/factor\n",
    "        self.m_precio_aguacate_var = params['precio_aguacate_var']/factor\n",
    "        self.m_volumen_aguacate = params['volumen_aguacate']/factor\n",
    "        self.m_volumen_aguacate_var = params['volumen_aguacate_var']/factor\n",
    "        # chile data\n",
    "        self.m_precio_chile = params['precio_chile']/factor\n",
    "        self.m_precio_chile_var = params['precio_chile_var']/factor\n",
    "        self.m_volumen_chile = params['volumen_chile']/factor\n",
    "        self.m_volumen_chile_var = params['volumen_chile_var']/factor\n",
    "\n",
    "       \n",
    "    def generar_base(self):\n",
    "        \"\"\"\n",
    "        Genera datos base para los productos\n",
    "        \"\"\"\n",
    "        # precios base con tendencias estacionales\n",
    "        tiempo = np.linspace(0, 10, self.n_dias)\n",
    "        estacionalidad = np.sin(2 * np.pi * tiempo / 365) * 0.2\n",
    "\n",
    "        # variables climáticas, que cambiarán la calidad de la fruta\n",
    "        temperatura = 25 + 10 * np.sin(2 * np.pi * tiempo / 365) + np.random.normal(0, 3)\n",
    "        humedad = 60 + 20 * np.sin(2 * np.pi * tiempo / 365 + np.pi/2) + np.random.normal(0, 5)\n",
    "        \n",
    "        # frambuesa - producto altamente perecedero\n",
    "        # aqui hice el cambio para que no haya ruido y solo un cambio estacional simulado con una funcion sin(x)\n",
    "        precio_frambuesa  = self.m_precio_frambuesa * np.sin(tiempo*2*np.pi) # np.exp(np.random.normal(self.m_precio_frambuesa + estacionalidad, self.m_precio_frambuesa_var, size=self.n_dias))\n",
    "        volumen_frambuesa = np.random.normal(self.m_volumen_frambuesa, self.m_volumen_frambuesa_var, size=self.n_dias) + np.random.normal(0, 50) * estacionalidad\n",
    "        calidad_frambuesa = np.clip(0.9 - 0.005*(temperatura-25)**2 - 0.002*(humedad-70)**2 + np.random.normal(0, 0.05), 0.5, 1.0)\n",
    "\n",
    "        # aguacate - menos perecedero\n",
    "        precio_aguacate = np.exp(np.random.normal(self.m_precio_aguacate + estacionalidad*0.5, self.m_precio_aguacate_var, size=self.n_dias))\n",
    "        volumen_aguacate = np.random.normal(self.m_volumen_aguacate, self.m_volumen_aguacate_var, size=self.n_dias) - np.random.normal(0, 70) * estacionalidad\n",
    "        calidad_aguacate = np.clip(0.95 - 0.003*(temperatura-22)**2 + np.random.normal(0, 0.03), 0.7, 1.0)\n",
    "        \n",
    "        # chile seco - producto estable\n",
    "        precio_chile = np.exp(np.random.normal(self.m_precio_chile + estacionalidad*0.001, self.m_precio_chile_var, size=self.n_dias))\n",
    "        volumen_chile = np.random.normal(self.m_volumen_chile, self.m_volumen_chile_var, size=self.n_dias)\n",
    "        calidad_chile = np.clip(0.85 - 0.001*(humedad-50)**2 + np.random.normal(0, 0.04), 0.6, 1.0)\n",
    "                \n",
    "        # datos sin modificaciones de brokers\n",
    "        datos = {\n",
    "            'fecha': self.fechas,\n",
    "            'precio_frambuesa': precio_frambuesa,\n",
    "            'volumen_frambuesa': volumen_frambuesa,\n",
    "            'calidad_frambuesa': calidad_frambuesa,\n",
    "            'precio_aguacate': precio_aguacate,\n",
    "            'volumen_aguacate': volumen_aguacate,\n",
    "            'calidad_aguacate': calidad_aguacate,\n",
    "            'precio_chile': precio_chile,\n",
    "            'volumen_chile': volumen_chile,\n",
    "            'calidad_chile': calidad_chile,\n",
    "            'temperatura': temperatura,\n",
    "            'humedad': humedad,\n",
    "        }\n",
    "        \n",
    "        return pd.DataFrame(datos)\n",
    "    \n",
    "    def agregar_eventos_mercado(self, df):\n",
    "        \"\"\"\n",
    "        Agrega eventos de mercado simulados\n",
    "        \"\"\"\n",
    "        eventos = np.zeros(self.n_dias)\n",
    "        if self.interesante:\n",
    "            # frambuesa (perecedero)\n",
    "            for i in range(100, self.n_dias, 180):\n",
    "                duracion = np.random.randint(5, 15)\n",
    "                intensidad = np.random.uniform(0.4, 0.7)\n",
    "                \n",
    "                df.loc[i:i+duracion, 'precio_frambuesa'] *= 10*intensidad\n",
    "                df.loc[i:i+duracion, 'volumen_frambuesa'] *= np.random.uniform(1.2, 1.8)\n",
    "                eventos[i:i+duracion] = 1  # Evento tipo 1: sobreoferta\n",
    "                \n",
    "            # aguacate (especulación)\n",
    "            for i in range(150, self.n_dias, 220):\n",
    "                duracion = np.random.randint(10, 20)\n",
    "                intensidad = np.random.uniform(1.3, 1.8)\n",
    "                \n",
    "                df.loc[i:i+duracion, 'precio_aguacate'] *= intensidad\n",
    "                df.loc[i:i+duracion, 'volumen_aguacate'] *= np.random.uniform(0.6, 0.9)\n",
    "                eventos[i:i+duracion] = 0  # Evento tipo 2: especulación\n",
    "                \n",
    "            # climáticos extremos\n",
    "            for i in range(200, self.n_dias, 300):\n",
    "                duracion = np.random.randint(7, 14)\n",
    "                \n",
    "                df.loc[i:i+duracion, 'temperatura'] += np.random.uniform(5, 10)\n",
    "                df.loc[i:i+duracion, 'humedad'] -= np.random.uniform(15, 25)\n",
    "                eventos[i:i+duracion] = 0  # Evento tipo 3: clima extremo\n",
    "            \n",
    "        return df, eventos\n",
    "    \n",
    "    def simular_comportamiento_brokers(self, df):\n",
    "        \"\"\"\n",
    "        Simula el comportamiento estratégico de brokers\n",
    "        \"\"\"\n",
    "        # estrategias de brokers basadas en condiciones de mercado\n",
    "        df['estrategia_broker'] = 'neutral'\n",
    "        \n",
    "        # identificar condiciones para diferentes estrategias\n",
    "        mask_sobreoferta = (df['precio_frambuesa'].pct_change(5) < -0.15)\n",
    "        mask_especulacion = (df['precio_aguacate'].pct_change(5) > 0.2)\n",
    "        mask_clima_extremo = (df['temperatura'] > 32) | (df['humedad'] < 40)\n",
    "        \n",
    "        df.loc[mask_sobreoferta, 'estrategia_broker'] = 'liquidacion'\n",
    "        df.loc[mask_especulacion, 'estrategia_broker'] = 'acaparamiento'\n",
    "        df.loc[mask_clima_extremo, 'estrategia_broker'] = 'precaucion'\n",
    "        \n",
    "        return df\n",
    "    \n",
    "    def generar_datos(self):\n",
    "        \"\"\"\n",
    "        Genera el conjunto completo de datos simulados\n",
    "        \"\"\"\n",
    "        df = self.generar_base()\n",
    "        df, eventos = self.agregar_eventos_mercado(df)\n",
    "        df = self.simular_comportamiento_brokers(df)\n",
    "        \n",
    "        # agregar elasticidad cruzada simulada\n",
    "        df['precio_fresa'] = df['precio_frambuesa'] * np.random.uniform(0.8, 1.2)\n",
    "        df.loc[df['precio_frambuesa'] > df['precio_frambuesa'].quantile(0.8), 'precio_fresa'] *= 1.1\n",
    "        \n",
    "        self.df = df\n",
    "        self.eventos = eventos\n",
    "        return df, eventos"
   ]
  },
  {
   "cell_type": "markdown",
   "id": "97dfc0da",
   "metadata": {},
   "source": [
    "### 2.1 Genear y visualizar datos\n",
    "\n",
    "Actividades/preguntas:\n",
    "1. Genere los datos y guardélos en una base de datos con formato csv.\n",
    "2. Grafique los datos más relevantes a su consideración.\n",
    "3. Juegue con los parámetros que considere mas relvantes dentro de la clase `DatosAgricolas`\n",
    "4. Dé una interpretación\n"
   ]
  },
  {
   "cell_type": "code",
   "execution_count": 3,
   "id": "d35b07cc",
   "metadata": {},
   "outputs": [
    {
     "name": "stdout",
     "output_type": "stream",
     "text": [
      "49.0 1000\n"
     ]
    },
    {
     "data": {
      "image/png": "[encoded data removed]",
      "text/plain": [
       "<Figure size 1200x600 with 1 Axes>"
      ]
     },
     "metadata": {},
     "output_type": "display_data"
    },
    {
     "name": "stdout",
     "output_type": "stream",
     "text": [
      "Evolución de precios guardada en 'evolucion_precios.png'\n",
      "   precio_frambuesa  volumen_frambuesa\n",
      "0          0.000000          19.738365\n",
      "1          0.444656          20.736357\n",
      "2          0.887553          18.733271\n",
      "3          1.326940          18.733392\n",
      "4          1.761080          20.800714\n",
      "Accuracy on train: 0.982\n",
      "ROC AUC on train: 0.995\n",
      "Accuracy on valid: 0.98\n",
      "ROC AUC on valid: 0.992\n",
      "Precision 1 on train: 0.778\n",
      "Precision 0 on train: 0.993\n",
      "Precision 1 on valid: 1.0\n",
      "Precision 0 on valid: 0.979\n"
     ]
    }
   ],
   "source": [
    "params = {\n",
    "    'precio_frambuesa': 70745,\n",
    "    'precio_frambuesa_var':2122,\n",
    "    'volumen_frambuesa':190000,\n",
    "    'volumen_frambuesa_var':11400,\n",
    "\n",
    "    'precio_aguacate':20212,\n",
    "    'precio_aguacate_var':3840,\n",
    "    'volumen_aguacate':2973000,\n",
    "    'volumen_aguacate_var':505000,\n",
    "\n",
    "    'precio_chile':22490,\n",
    "    'precio_chile_var':787,\n",
    "    'volumen_chile': 3681000,\n",
    "    'volumen_chile_var':662580\n",
    "}\n",
    "\n",
    "\n",
    "generador = DatosAgricolas(params, n_dias=1000, factor=10000)\n",
    "df, eventos = generador.generar_datos()\n",
    "df['y'] = eventos\n",
    "    \n",
    "print(np.sum(eventos), len(df))\n",
    "\n",
    "X = df[['precio_frambuesa', 'volumen_frambuesa']].copy()\n",
    "Y = df[\"y\"]\n",
    "\n",
    "plt.figure(figsize=(12, 6))\n",
    "plt.plot(df['fecha'], df['precio_frambuesa'], label='Frambuesa')\n",
    "#plt.plot(df['fecha'], df['volumen_aguacate'], label='Aguacate')\n",
    "#plt.plot(df['fecha'], df['volumen_chile'], label='Chile seco')\n",
    "plt.title('Precios')\n",
    "plt.xlabel('Fecha')\n",
    "plt.ylabel('Precio MXN')\n",
    "#plt.yscale(\"log\")\n",
    "plt.legend()\n",
    "#plt.grid(True)\n",
    "plt.show()\n",
    "plt.savefig('evolucion_precios.png')\n",
    "plt.close()\n",
    "print(\"Evolución de precios guardada en 'evolucion_precios.png'\")\n",
    "\n",
    "\n",
    "print(X.head())\n",
    "df.to_csv('./datos_agricolas_simulados.csv', index=False)\n",
    "\n",
    "\n",
    "from sklearn.model_selection import train_test_split\n",
    "from sklearn.metrics import accuracy_score, roc_auc_score, precision_score\n",
    "\n",
    "X_train, X_valid, y_train, y_valid = train_test_split(X, Y, test_size=0.1, random_state=42)\n",
    "\n",
    "\n",
    "def print_scores(fitted_model):\n",
    "    res = {\n",
    "        \"Accuracy on train:\": accuracy_score(fitted_model.predict(X_train), y_train),\n",
    "        \"ROC AUC on train:\": roc_auc_score(\n",
    "            y_train, fitted_model.predict_proba(X_train)[:, 1]\n",
    "        ),\n",
    "        \"Accuracy on valid:\": accuracy_score(fitted_model.predict(X_valid), y_valid),\n",
    "        \"ROC AUC on valid:\": roc_auc_score(\n",
    "            y_valid, fitted_model.predict_proba(X_valid)[:, 1]\n",
    "        ),\n",
    "        \"Precision 1 on train:\": precision_score(fitted_model.predict(X_train), y_train, pos_label=1),\n",
    "        \"Precision 0 on train:\": precision_score(fitted_model.predict(X_train), y_train, pos_label=0),\n",
    "        \"Precision 1 on valid:\": precision_score(fitted_model.predict(X_valid), y_valid, pos_label=1),\n",
    "        \"Precision 0 on valid:\": precision_score(fitted_model.predict(X_valid), y_valid, pos_label=0),\n",
    "    }\n",
    "\n",
    "    for k, v in res.items():\n",
    "        print(k, round(v, 3))\n",
    "\n",
    "from sklearn.linear_model import LogisticRegression\n",
    "\n",
    "model = LogisticRegression()\n",
    "model.fit(X_train, y_train)\n",
    "print_scores(model)\n"
   ]
  },
  {
   "cell_type": "markdown",
   "id": "3454adb0",
   "metadata": {},
   "source": [
    "###  2 Análisis TDA completo (homología persistente + Mapper)\n",
    "\n",
    "Actividades/preguntas:\n",
    "1. Describa cual es el objetivo principal de esta clase\n",
    "2. Comentar (describir) las líneas más importantes y escribir documentación adecuada para la clase `AnalisisTDA`\n",
    "3. En la clase `DatosAgricolas` hay varios parámetros que usted puede ajustar, identifíquelos e interprete ssu efecto en los datos.\n",
    "4. Describa el outcome que espera de la clase `AnalisisTDA`\n",
    "5. Discuta cualesquiera otras informaciones en `AnalisisTDA` que puedan ser relevantes."
   ]
  },
  {
   "cell_type": "code",
   "execution_count": 4,
   "id": "27c1d7ec",
   "metadata": {},
   "outputs": [],
   "source": [
    "from gtda.diagrams import PersistenceEntropy, Scaler\n",
    "from gtda.homology import VietorisRipsPersistence\n",
    "from gtda.metaestimators import CollectionTransformer\n",
    "from gtda.pipeline import Pipeline\n",
    "from gtda.time_series import TakensEmbedding, SingleTakensEmbedding\n",
    "from gtda.time_series import SlidingWindow\n",
    "from sklearn.decomposition import PCA\n",
    "import sys\n",
    "\n",
    "\n",
    "class AnalisisTDA:\n",
    "    \"\"\"\n",
    "    Analisis topologico\n",
    "    \"\"\"\n",
    "    def __init__(self, embedding_type = \"TK\", only_x = True, univariate = False, option_uni = None):\n",
    "        self.m_embedder   = embedding_type\n",
    "        self.m_only_x = only_x\n",
    "        self.m_univariate = univariate\n",
    "        self.m_option_uni = option_uni\n",
    "\n",
    "        \n",
    "    def homologia_persistente(self, x_datos, y_datos=None, embedding_dimension = 2, embedding_time_delay = 1, window_size = 100,  stride = 4):\n",
    "        \"\"\"\n",
    "        homologia persistente usando Vietoris-Rips. TODO: documentar\n",
    "        \"\"\"\n",
    "        if self.m_embedder == \"STK\" or (self.m_univariate and self.m_option_uni==1):\n",
    "            embedder = TakensEmbedding(time_delay=embedding_time_delay, dimension=embedding_dimension, stride=stride)            \n",
    "        elif self.m_embedder == \"TK\" or (self.m_univariate and self.m_option_uni==2):\n",
    "            embedder = SingleTakensEmbedding(time_delay=embedding_time_delay, dimension=embedding_dimension, stride=stride)\n",
    "        elif self.m_embedder == \"SW\":\n",
    "            embedder = SlidingWindow(size = embedding_dimension, stride=stride)\n",
    "        else:\n",
    "            sys.exit(\"Embedder no disponible!\")\n",
    "\n",
    "        persistence = VietorisRipsPersistence(homology_dimensions=[0, 1, 2], n_jobs=-1)\n",
    "        scaling = Scaler()\n",
    "        entropy = PersistenceEntropy(normalize=True, nan_fill_value=-10)\n",
    "\n",
    "        if self.m_univariate: # one dimensional\n",
    "            sw = SlidingWindow(size=window_size, stride=stride)\n",
    "            if self.m_option_uni == 1:   # Option 1: SlidingWindow + TakensEmbedding\n",
    "                steps_1 = [(\"sw\", sw), (\"embedder\", embedder), (\"persistence\", persistence)]\n",
    "            elif self.m_option_uni == 2: # Option 2: SingleTakensEmbedding + SlidingWindow\n",
    "                steps_1 = [(\"embedder\", embedder), (\"sw\", sw), (\"persistence\", persistence)]\n",
    "        else: # multidimensional or many signals\n",
    "            pca = CollectionTransformer(PCA(n_components=3), n_jobs=-1)\n",
    "            steps_1 = [(\"embedder\", embedder), (\"PCA\", pca), (\"persistence\", persistence)]\n",
    "        \n",
    "        steps_2 = [(\"scaling\", scaling), (\"entropy\", entropy)]\n",
    "\n",
    "        topological_transfomer_1 = Pipeline(steps_1)\n",
    "        topological_transfomer_2 = Pipeline(steps_2)\n",
    "\n",
    "        if self.m_option_uni==2:\n",
    "            pca = PCA(n_components=2)\n",
    "            steps_v = [(\"embedder\", embedder), (\"PCA\", pca)]\n",
    "            plot_cloud = Pipeline(steps_v).fit_transform(x_datos)\n",
    "            \n",
    "\n",
    "        if self.m_only_x:\n",
    "            diagramas = topological_transfomer_1.fit_transform(x_datos)\n",
    "            trans_features = topological_transfomer_2.fit_transform(diagramas)\n",
    "\n",
    "        if self.m_option_uni==1:\n",
    "            return  diagramas[0],trans_features\n",
    "        elif self.m_option_uni==2:\n",
    "            return  diagramas[0],trans_features,plot_cloud\n",
    "    \n",
    "    \n",
    "    def mapper_algorithm(self, datos, n_cubiertas=15, overlap=0.3):\n",
    "        \"\"\"\n",
    "        usar el algoritmo mapper. TODO: documentar \n",
    "        \"\"\"\n",
    "        # configurar algoritmo mapper\n",
    "        mapper_algoritmo = make_mapper_pipeline(\n",
    "            projection=Projection(columns=list(range(datos.shape[1]))),\n",
    "            clusterer=DBSCAN(eps=0.3, min_samples=5),\n",
    "            cover_n_cubes=n_cubiertas,\n",
    "            cover_perc_overlap=overlap,\n",
    "            scaler=MinMaxScaler()\n",
    "        )\n",
    "        \n",
    "        # aplicar mapper\n",
    "        fig = plot_static_mapper_graph(\n",
    "            mapper_algoritmo,\n",
    "            datos,\n",
    "            color_by_columns_dropdown=True,\n",
    "            node_color_statistic=np.mean\n",
    "        )\n",
    "        \n",
    "        return fig\n"
   ]
  },
  {
   "cell_type": "markdown",
   "id": "2b1dd8fb",
   "metadata": {},
   "source": [
    "### 2.1 Probar la clase `AnalisisTDA` con una serie simple univariada"
   ]
  },
  {
   "cell_type": "code",
   "execution_count": 5,
   "id": "986745c1",
   "metadata": {},
   "outputs": [
    {
     "data": {
      "application/vnd.plotly.v1+json": {
       "config": {
        "plotlyServerURL": "https://plot.ly"
       },
       "data": [
        {
         "hoverinfo": "none",
         "line": {
          "color": "black",
          "dash": "dash",
          "width": 1
         },
         "mode": "lines",
         "showlegend": false,
         "type": "scatter",
         "x": [
          -0.5178339004516601,
          26.409528923034667
         ],
         "y": [
          -0.5178339004516601,
          26.409528923034667
         ]
        },
        {
         "hoverinfo": "text",
         "hovertext": [
          "(0.0, 0.08675462752580643)",
          "(0.0, 0.08802083134651184)",
          "(0.0, 0.08803637325763702)",
          "(0.0, 0.08806757628917694)",
          "(0.0, 0.08822549134492874)",
          "(0.0, 0.08825742453336716)",
          "(0.0, 0.08827343583106995)",
          "(0.0, 0.0883055254817009)",
          "(0.0, 0.08970799297094345)",
          "(0.0, 0.08973942697048187)",
          "(0.0, 0.08987922221422195)",
          "(0.0, 0.08990988880395889)",
          "(0.0, 0.0899403989315033)",
          "(0.0, 0.09118286520242691)",
          "(0.0, 0.17356422543525696)",
          "(0.0, 0.17376157641410828)",
          "(0.0, 0.17378222942352295)",
          "(0.0, 0.17613427340984344)",
          "(0.0, 0.17661017179489136)",
          "(0.0, 0.1793203204870224)",
          "(0.0, 0.17935197055339813)",
          "(0.0, 0.17981888353824615)",
          "(0.0, 0.1820877343416214)",
          "(0.0, 0.21322986483573914)",
          "(0.0, 0.26034417748451233)",
          "(0.0, 0.2734397053718567)",
          "(0.0, 0.3662889301776886)",
          "(0.0, 0.7346207499504089)",
          "(0.0, 1.5866888761520386)",
          "(0.0, 2.5555851459503174)",
          "(0.0, 3.4959676265716553)",
          "(0.0, 3.9618113040924072)",
          "(0.0, 3.971510887145996)",
          "(0.0, 4.003703594207764)",
          "(0.0, 4.047316074371338)",
          "(0.0, 4.161313533782959)",
          "(0.0, 4.172908306121826)",
          "(0.0, 4.1833953857421875)",
          "(0.0, 4.183588981628418)",
          "(0.0, 4.190316677093506)",
          "(0.0, 4.193732738494873)",
          "(0.0, 4.242801189422607)",
          "(0.0, 4.271419525146484)",
          "(0.0, 4.283836841583252)",
          "(0.0, 4.305600643157959)",
          "(0.0, 4.305875301361084)",
          "(0.0, 4.325515270233154)",
          "(0.0, 4.423793792724609)",
          "(0.0, 4.553162574768066)",
          "(0.0, 6.214213848114014)",
          "(0.0, 6.349785327911377)",
          "(0.0, 6.7674336433410645)",
          "(0.0, 6.797903060913086)",
          "(0.0, 6.892451763153076)",
          "(0.0, 7.268224716186523)",
          "(0.0, 7.35727596282959)",
          "(0.0, 7.385067462921143)",
          "(0.0, 7.4807515144348145)",
          "(0.0, 7.8989057540893555)",
          "(0.0, 7.941834926605225)",
          "(0.0, 8.0142822265625)",
          "(0.0, 8.336274147033691)",
          "(0.0, 8.503096580505371)",
          "(0.0, 8.527575492858887)",
          "(0.0, 8.59309196472168)",
          "(0.0, 8.705817222595215)",
          "(0.0, 8.728236198425293)",
          "(0.0, 8.744973182678223)",
          "(0.0, 8.85330581665039)",
          "(0.0, 8.976964950561523)",
          "(0.0, 9.014312744140625)",
          "(0.0, 9.128214836120605)",
          "(0.0, 9.357677459716797)",
          "(0.0, 9.474777221679688)",
          "(0.0, 9.549553871154785)",
          "(0.0, 9.664461135864258)",
          "(0.0, 10.059663772583008)",
          "(0.0, 10.168795585632324)",
          "(0.0, 10.54536247253418)",
          "(0.0, 10.649505615234375)",
          "(0.0, 11.016380310058594)",
          "(0.0, 11.097804069519043)",
          "(0.0, 11.177716255187988)",
          "(0.0, 12.68701171875)",
          "(0.0, 12.748321533203125)",
          "(0.0, 12.838773727416992)",
          "(0.0, 12.995635986328125)",
          "(0.0, 13.170648574829102)",
          "(0.0, 13.358798027038574)",
          "(0.0, 14.048516273498535)",
          "(0.0, 14.60722827911377)",
          "(0.0, 15.407100677490234)",
          "(0.0, 16.41461181640625)",
          "(0.0, 16.479394912719727)",
          "(0.0, 18.24268341064453)",
          "(0.0, 18.3128604888916)",
          "(0.0, 20.02587127685547)",
          "(0.0, 20.093778610229492)",
          "(0.0, 21.730087280273438)"
         ],
         "mode": "markers",
         "name": "H0",
         "type": "scatter",
         "x": {
          "bdata": "AAAAAAAAAAAAAAAAAAAAAAAAAAAAAAAAAAAAAAAAAAAAAAAAAAAAAAAAAAAAAAAAAAAAAAAAAAAAAAAAAAAAAAAAAAAAAAAAAAAAAAAAAAAAAAAAAAAAAAAAAAAAAAAAAAAAAAAAAAAAAAAAAAAAAAAAAAAAAAAAAAAAAAAAAAAAAAAAAAAAAAAAAAAAAAAAAAAAAAAAAAAAAAAAAAAAAAAAAAAAAAAAAAAAAAAAAAAAAAAAAAAAAAAAAAAAAAAAAAAAAAAAAAAAAAAAAAAAAAAAAAAAAAAAAAAAAAAAAAAAAAAAAAAAAAAAAAAAAAAAAAAAAAAAAAAAAAAAAAAAAAAAAAAAAAAAAAAAAAAAAAAAAAAAAAAAAAAAAAAAAAAAAAAAAAAAAAAAAAAAAAAAAAAAAAAAAAAAAAAAAAAAAAAAAAAAAAAAAAAAAAAAAAAAAAAAAAAAAAAAAAAAAAAAAAAAAAAAAAAAAAAAAAAAAAAAAAAAAAAAAAAAAAAAAAAAAAAAAAAAAAAAAAAAAAAAAAAAAAAAAAAAAAAAAAAAAAAAAAAAAAAAAAAAAAAAAAAAAAAAAAAAAAAAAAAAAAAAAAAAAAAAAAAAAAAAAAAAAAAAAAAAAAAAAAAAAAAAAAAAAAAAAAAAAAAAAAAAAAAAAAAAAAAAAAAAAAAAAAAAAAAAAAAAAAAAAAAAAAAAAAAAAAAAAAAAAAAAAAAAAAAAAAAAAAAAAAAAAAAAAAAAAAAAAAAAAAAAAAAAAAAAAAAAAAAAAAAAAAAAAAAAAAAAAAAAAAAAAAAAAAAAAAAAAAAAAAAAAAAAAAAAAAAAAAAAAAAAAAAAAAAAAAAAAAAAAAAAAAAAAAAAAAAAAAAAAAAAAAAAAAAAAAAAAAAAAAAAAAAAAAAAAAAAAAAAAAAAAAAAAAAAAAAAAAAAAAAAAAAAAAAAAAAAAAAAAAAAAAAAAAAAAAAAAAAAAAAAAAAAAAAAAAAAAAAAAAAAAAAAAAAAAAAAAAAAAAAAAAAAAAAAAAAAAAAAAAAAAAAAAAAAAAAAAAAAAAAA",
          "dtype": "f8"
         },
         "y": {
          "bdata": "AAAAII01tj8AAACAiIi2PwAAAECNibY/AAAAwJiLtj8AAAAg8pW2PwAAAOAJmLY/AAAAgBaZtj8AAADgMJu2PwAAAGAa97Y/AAAAwCn5tj8AAAAgUwK3PwAAAKBVBLc/AAAAgFUGtz8AAACgwle3PwAAAEBaN8Y/AAAAwNE9xj8AAAAAfz7GPwAAAGCRi8Y/AAAAgCmbxj8AAADg9/PGPwAAAGAB9cY/AAAAIE4Exz8AAACgpk7HPwAAAMAdS8s/AAAAoHqp0D8AAABACYDRPwAAACBHcdc/AAAAYAOC5z8AAADgE2P5PwAAAKDWcQRAAAAA4L33C0AAAAAgyrEPQAAAAICnxQ9AAAAA4MoDEEAAAACgczAQQAAAAGAvpRBAAAAA4A6xEEAAAAAAzLsQQAAAAMD+uxBAAAAAYOLCEEAAAADgYcYQQAAAAOCg+BBAAAAAAO8VEUAAAAAgpiIRQAAAAGDvOBFAAAAAYDc5EUAAAADgU00RQAAAAAD3sRFAAAAAQHA2EkAAAADgWtsYQAAAACAuZhlAAAAAINoRG0AAAACADTEbQAAAAODekRtAAAAAgKkSHUAAAADA2W0dQAAAACBPih1AAAAAIErsHUAAAADAepgfQAAAAGBwxB9AAAAAAFAHIEAAAAAgLKwgQAAAAOCVASFAAAAAYB4OIUAAAADAqS8hQAAAAOBgaSFAAAAAYNt0IUAAAAAgbX0hQAAAAIDktCFAAAAAwDT0IUAAAAAAVAciQAAAAGClQSJAAAAAgCG3IkAAAAAAFvMiQAAAACBfGSNAAAAAQDRUI0AAAABAjB4kQAAAAGBsViRAAAAAwDkXJUAAAAAAjEwlQAAAAABjCCZAAAAAYBMyJkAAAACg/VomQAAAAADAXylAAAAAACR/KUAAAADAc60pQAAAAADE/SlAAAAAQF9XKkAAAABgtLcqQAAAACDXGCxAAAAAoOY2LUAAAACAb9AuQAAAAAAkajBAAAAAoLl6MEAAAACAID4yQAAAAKAXUDJAAAAAgJ8GNEAAAADgARg0QAAAAADnujVA",
          "dtype": "f8"
         }
        },
        {
         "hoverinfo": "text",
         "hovertext": [
          "(24.7338924407959, 24.735015869140625)",
          "(24.701929092407227, 25.205896377563477)",
          "(23.35170555114746, 23.980987548828125)",
          "(21.81829261779785, 24.074710845947266)",
          "(20.303979873657227, 23.012697219848633)",
          "(20.273513793945312, 23.076541900634766)",
          "(18.68875503540039, 22.981136322021484)",
          "(18.61381721496582, 23.041078567504883)",
          "(4.593607425689697, 24.73587417602539)"
         ],
         "mode": "markers",
         "name": "H1",
         "type": "scatter",
         "x": {
          "bdata": "AAAAYOC7OEAAAACgsbM4QAAAAGAJWjdAAAAAoHvRNUAAAACg0U00QAAAAAAFRjRAAAAAQFKwMkAAAAAgI50yQAAAAKDaXxJA",
          "dtype": "f8"
         },
         "y": {
          "bdata": "AAAAACq8OEAAAACgtTQ5QAAAAAAi+zdAAAAAQCATOEAAAAAgQAM3QAAAAECYEzdAAAAAwCv7NkAAAAAghAo3QAAAAEBivDhA",
          "dtype": "f8"
         }
        },
        {
         "hoverinfo": "text",
         "hovertext": [
          "(25.134857177734375, 25.718494415283203)",
          "(25.093626022338867, 25.670263290405273)",
          "(25.0789737701416, 25.748497009277344)",
          "(24.99180030822754, 25.790803909301758)",
          "(24.81125259399414, 25.891695022583008)"
         ],
         "mode": "markers",
         "name": "H2",
         "type": "scatter",
         "x": {
          "bdata": "AAAAAIYiOUAAAADg9xc5QAAAAKA3FDlAAAAAoOb9OEAAAABArs84QA==",
          "dtype": "f8"
         },
         "y": {
          "bdata": "AAAAQO+3OUAAAABglqs5QAAAAICdvzlAAAAAIHLKOUAAAAAgRuQ5QA==",
          "dtype": "f8"
         }
        }
       ],
       "layout": {
        "height": 500,
        "plot_bgcolor": "white",
        "template": {
         "data": {
          "bar": [
           {
            "error_x": {
             "color": "#2a3f5f"
            },
            "error_y": {
             "color": "#2a3f5f"
            },
            "marker": {
             "line": {
              "color": "#E5ECF6",
              "width": 0.5
             },
             "pattern": {
              "fillmode": "overlay",
              "size": 10,
              "solidity": 0.2
             }
            },
            "type": "bar"
           }
          ],
          "barpolar": [
           {
            "marker": {
             "line": {
              "color": "#E5ECF6",
              "width": 0.5
             },
             "pattern": {
              "fillmode": "overlay",
              "size": 10,
              "solidity": 0.2
             }
            },
            "type": "barpolar"
           }
          ],
          "carpet": [
           {
            "aaxis": {
             "endlinecolor": "#2a3f5f",
             "gridcolor": "white",
             "linecolor": "white",
             "minorgridcolor": "white",
             "startlinecolor": "#2a3f5f"
            },
            "baxis": {
             "endlinecolor": "#2a3f5f",
             "gridcolor": "white",
             "linecolor": "white",
             "minorgridcolor": "white",
             "startlinecolor": "#2a3f5f"
            },
            "type": "carpet"
           }
          ],
          "choropleth": [
           {
            "colorbar": {
             "outlinewidth": 0,
             "ticks": ""
            },
            "type": "choropleth"
           }
          ],
          "contour": [
           {
            "colorbar": {
             "outlinewidth": 0,
             "ticks": ""
            },
            "colorscale": [
             [
              0,
              "#0d0887"
             ],
             [
              0.1111111111111111,
              "#46039f"
             ],
             [
              0.2222222222222222,
              "#7201a8"
             ],
             [
              0.3333333333333333,
              "#9c179e"
             ],
             [
              0.4444444444444444,
              "#bd3786"
             ],
             [
              0.5555555555555556,
              "#d8576b"
             ],
             [
              0.6666666666666666,
              "#ed7953"
             ],
             [
              0.7777777777777778,
              "#fb9f3a"
             ],
             [
              0.8888888888888888,
              "#fdca26"
             ],
             [
              1,
              "#f0f921"
             ]
            ],
            "type": "contour"
           }
          ],
          "contourcarpet": [
           {
            "colorbar": {
             "outlinewidth": 0,
             "ticks": ""
            },
            "type": "contourcarpet"
           }
          ],
          "heatmap": [
           {
            "colorbar": {
             "outlinewidth": 0,
             "ticks": ""
            },
            "colorscale": [
             [
              0,
              "#0d0887"
             ],
             [
              0.1111111111111111,
              "#46039f"
             ],
             [
              0.2222222222222222,
              "#7201a8"
             ],
             [
              0.3333333333333333,
              "#9c179e"
             ],
             [
              0.4444444444444444,
              "#bd3786"
             ],
             [
              0.5555555555555556,
              "#d8576b"
             ],
             [
              0.6666666666666666,
              "#ed7953"
             ],
             [
              0.7777777777777778,
              "#fb9f3a"
             ],
             [
              0.8888888888888888,
              "#fdca26"
             ],
             [
              1,
              "#f0f921"
             ]
            ],
            "type": "heatmap"
           }
          ],
          "histogram": [
           {
            "marker": {
             "pattern": {
              "fillmode": "overlay",
              "size": 10,
              "solidity": 0.2
             }
            },
            "type": "histogram"
           }
          ],
          "histogram2d": [
           {
            "colorbar": {
             "outlinewidth": 0,
             "ticks": ""
            },
            "colorscale": [
             [
              0,
              "#0d0887"
             ],
             [
              0.1111111111111111,
              "#46039f"
             ],
             [
              0.2222222222222222,
              "#7201a8"
             ],
             [
              0.3333333333333333,
              "#9c179e"
             ],
             [
              0.4444444444444444,
              "#bd3786"
             ],
             [
              0.5555555555555556,
              "#d8576b"
             ],
             [
              0.6666666666666666,
              "#ed7953"
             ],
             [
              0.7777777777777778,
              "#fb9f3a"
             ],
             [
              0.8888888888888888,
              "#fdca26"
             ],
             [
              1,
              "#f0f921"
             ]
            ],
            "type": "histogram2d"
           }
          ],
          "histogram2dcontour": [
           {
            "colorbar": {
             "outlinewidth": 0,
             "ticks": ""
            },
            "colorscale": [
             [
              0,
              "#0d0887"
             ],
             [
              0.1111111111111111,
              "#46039f"
             ],
             [
              0.2222222222222222,
              "#7201a8"
             ],
             [
              0.3333333333333333,
              "#9c179e"
             ],
             [
              0.4444444444444444,
              "#bd3786"
             ],
             [
              0.5555555555555556,
              "#d8576b"
             ],
             [
              0.6666666666666666,
              "#ed7953"
             ],
             [
              0.7777777777777778,
              "#fb9f3a"
             ],
             [
              0.8888888888888888,
              "#fdca26"
             ],
             [
              1,
              "#f0f921"
             ]
            ],
            "type": "histogram2dcontour"
           }
          ],
          "mesh3d": [
           {
            "colorbar": {
             "outlinewidth": 0,
             "ticks": ""
            },
            "type": "mesh3d"
           }
          ],
          "parcoords": [
           {
            "line": {
             "colorbar": {
              "outlinewidth": 0,
              "ticks": ""
             }
            },
            "type": "parcoords"
           }
          ],
          "pie": [
           {
            "automargin": true,
            "type": "pie"
           }
          ],
          "scatter": [
           {
            "fillpattern": {
             "fillmode": "overlay",
             "size": 10,
             "solidity": 0.2
            },
            "type": "scatter"
           }
          ],
          "scatter3d": [
           {
            "line": {
             "colorbar": {
              "outlinewidth": 0,
              "ticks": ""
             }
            },
            "marker": {
             "colorbar": {
              "outlinewidth": 0,
              "ticks": ""
             }
            },
            "type": "scatter3d"
           }
          ],
          "scattercarpet": [
           {
            "marker": {
             "colorbar": {
              "outlinewidth": 0,
              "ticks": ""
             }
            },
            "type": "scattercarpet"
           }
          ],
          "scattergeo": [
           {
            "marker": {
             "colorbar": {
              "outlinewidth": 0,
              "ticks": ""
             }
            },
            "type": "scattergeo"
           }
          ],
          "scattergl": [
           {
            "marker": {
             "colorbar": {
              "outlinewidth": 0,
              "ticks": ""
             }
            },
            "type": "scattergl"
           }
          ],
          "scattermap": [
           {
            "marker": {
             "colorbar": {
              "outlinewidth": 0,
              "ticks": ""
             }
            },
            "type": "scattermap"
           }
          ],
          "scattermapbox": [
           {
            "marker": {
             "colorbar": {
              "outlinewidth": 0,
              "ticks": ""
             }
            },
            "type": "scattermapbox"
           }
          ],
          "scatterpolar": [
           {
            "marker": {
             "colorbar": {
              "outlinewidth": 0,
              "ticks": ""
             }
            },
            "type": "scatterpolar"
           }
          ],
          "scatterpolargl": [
           {
            "marker": {
             "colorbar": {
              "outlinewidth": 0,
              "ticks": ""
             }
            },
            "type": "scatterpolargl"
           }
          ],
          "scatterternary": [
           {
            "marker": {
             "colorbar": {
              "outlinewidth": 0,
              "ticks": ""
             }
            },
            "type": "scatterternary"
           }
          ],
          "surface": [
           {
            "colorbar": {
             "outlinewidth": 0,
             "ticks": ""
            },
            "colorscale": [
             [
              0,
              "#0d0887"
             ],
             [
              0.1111111111111111,
              "#46039f"
             ],
             [
              0.2222222222222222,
              "#7201a8"
             ],
             [
              0.3333333333333333,
              "#9c179e"
             ],
             [
              0.4444444444444444,
              "#bd3786"
             ],
             [
              0.5555555555555556,
              "#d8576b"
             ],
             [
              0.6666666666666666,
              "#ed7953"
             ],
             [
              0.7777777777777778,
              "#fb9f3a"
             ],
             [
              0.8888888888888888,
              "#fdca26"
             ],
             [
              1,
              "#f0f921"
             ]
            ],
            "type": "surface"
           }
          ],
          "table": [
           {
            "cells": {
             "fill": {
              "color": "#EBF0F8"
             },
             "line": {
              "color": "white"
             }
            },
            "header": {
             "fill": {
              "color": "#C8D4E3"
             },
             "line": {
              "color": "white"
             }
            },
            "type": "table"
           }
          ]
         },
         "layout": {
          "annotationdefaults": {
           "arrowcolor": "#2a3f5f",
           "arrowhead": 0,
           "arrowwidth": 1
          },
          "autotypenumbers": "strict",
          "coloraxis": {
           "colorbar": {
            "outlinewidth": 0,
            "ticks": ""
           }
          },
          "colorscale": {
           "diverging": [
            [
             0,
             "#8e0152"
            ],
            [
             0.1,
             "#c51b7d"
            ],
            [
             0.2,
             "#de77ae"
            ],
            [
             0.3,
             "#f1b6da"
            ],
            [
             0.4,
             "#fde0ef"
            ],
            [
             0.5,
             "#f7f7f7"
            ],
            [
             0.6,
             "#e6f5d0"
            ],
            [
             0.7,
             "#b8e186"
            ],
            [
             0.8,
             "#7fbc41"
            ],
            [
             0.9,
             "#4d9221"
            ],
            [
             1,
             "#276419"
            ]
           ],
           "sequential": [
            [
             0,
             "#0d0887"
            ],
            [
             0.1111111111111111,
             "#46039f"
            ],
            [
             0.2222222222222222,
             "#7201a8"
            ],
            [
             0.3333333333333333,
             "#9c179e"
            ],
            [
             0.4444444444444444,
             "#bd3786"
            ],
            [
             0.5555555555555556,
             "#d8576b"
            ],
            [
             0.6666666666666666,
             "#ed7953"
            ],
            [
             0.7777777777777778,
             "#fb9f3a"
            ],
            [
             0.8888888888888888,
             "#fdca26"
            ],
            [
             1,
             "#f0f921"
            ]
           ],
           "sequentialminus": [
            [
             0,
             "#0d0887"
            ],
            [
             0.1111111111111111,
             "#46039f"
            ],
            [
             0.2222222222222222,
             "#7201a8"
            ],
            [
             0.3333333333333333,
             "#9c179e"
            ],
            [
             0.4444444444444444,
             "#bd3786"
            ],
            [
             0.5555555555555556,
             "#d8576b"
            ],
            [
             0.6666666666666666,
             "#ed7953"
            ],
            [
             0.7777777777777778,
             "#fb9f3a"
            ],
            [
             0.8888888888888888,
             "#fdca26"
            ],
            [
             1,
             "#f0f921"
            ]
           ]
          },
          "colorway": [
           "#636efa",
           "#EF553B",
           "#00cc96",
           "#ab63fa",
           "#FFA15A",
           "#19d3f3",
           "#FF6692",
           "#B6E880",
           "#FF97FF",
           "#FECB52"
          ],
          "font": {
           "color": "#2a3f5f"
          },
          "geo": {
           "bgcolor": "white",
           "lakecolor": "white",
           "landcolor": "#E5ECF6",
           "showlakes": true,
           "showland": true,
           "subunitcolor": "white"
          },
          "hoverlabel": {
           "align": "left"
          },
          "hovermode": "closest",
          "mapbox": {
           "style": "light"
          },
          "paper_bgcolor": "white",
          "plot_bgcolor": "#E5ECF6",
          "polar": {
           "angularaxis": {
            "gridcolor": "white",
            "linecolor": "white",
            "ticks": ""
           },
           "bgcolor": "#E5ECF6",
           "radialaxis": {
            "gridcolor": "white",
            "linecolor": "white",
            "ticks": ""
           }
          },
          "scene": {
           "xaxis": {
            "backgroundcolor": "#E5ECF6",
            "gridcolor": "white",
            "gridwidth": 2,
            "linecolor": "white",
            "showbackground": true,
            "ticks": "",
            "zerolinecolor": "white"
           },
           "yaxis": {
            "backgroundcolor": "#E5ECF6",
            "gridcolor": "white",
            "gridwidth": 2,
            "linecolor": "white",
            "showbackground": true,
            "ticks": "",
            "zerolinecolor": "white"
           },
           "zaxis": {
            "backgroundcolor": "#E5ECF6",
            "gridcolor": "white",
            "gridwidth": 2,
            "linecolor": "white",
            "showbackground": true,
            "ticks": "",
            "zerolinecolor": "white"
           }
          },
          "shapedefaults": {
           "line": {
            "color": "#2a3f5f"
           }
          },
          "ternary": {
           "aaxis": {
            "gridcolor": "white",
            "linecolor": "white",
            "ticks": ""
           },
           "baxis": {
            "gridcolor": "white",
            "linecolor": "white",
            "ticks": ""
           },
           "bgcolor": "#E5ECF6",
           "caxis": {
            "gridcolor": "white",
            "linecolor": "white",
            "ticks": ""
           }
          },
          "title": {
           "x": 0.05
          },
          "xaxis": {
           "automargin": true,
           "gridcolor": "white",
           "linecolor": "white",
           "ticks": "",
           "title": {
            "standoff": 15
           },
           "zerolinecolor": "white",
           "zerolinewidth": 2
          },
          "yaxis": {
           "automargin": true,
           "gridcolor": "white",
           "linecolor": "white",
           "ticks": "",
           "title": {
            "standoff": 15
           },
           "zerolinecolor": "white",
           "zerolinewidth": 2
          }
         }
        },
        "width": 500,
        "xaxis": {
         "autorange": false,
         "exponentformat": "e",
         "linecolor": "black",
         "linewidth": 1,
         "mirror": false,
         "range": [
          -0.5178339004516601,
          26.409528923034667
         ],
         "showexponent": "all",
         "showline": true,
         "side": "bottom",
         "ticks": "outside",
         "title": {
          "text": "Birth"
         },
         "type": "linear",
         "zeroline": true
        },
        "yaxis": {
         "autorange": false,
         "exponentformat": "e",
         "linecolor": "black",
         "linewidth": 1,
         "mirror": false,
         "range": [
          -0.5178339004516601,
          26.409528923034667
         ],
         "scaleanchor": "x",
         "scaleratio": 1,
         "showexponent": "all",
         "showline": true,
         "side": "left",
         "ticks": "outside",
         "title": {
          "text": "Death"
         },
         "type": "linear",
         "zeroline": true
        }
       }
      }
     },
     "metadata": {},
     "output_type": "display_data"
    }
   ],
   "source": [
    "from gtda.plotting import plot_diagram, plot_point_cloud\n",
    "\n",
    "\n",
    "mi_tda = AnalisisTDA(embedding_type = \"TK\", univariate = True, option_uni = 2)\n",
    "X_univariate = np.array(df[\"precio_frambuesa\"].copy()) # X_train[\"precio_frambuesa\"]\n",
    "\n",
    "# homologia_persistente(self, datos, embedding_dimension = 2, embedding_time_delay = 1, window_size = 100,  stride = 4)\n",
    "embedding_dimension = 30\n",
    "embedding_time_delay = 30\n",
    "stride = 5\n",
    "diagrama, features, plot_cloud = mi_tda.homologia_persistente(X_univariate, embedding_dimension = embedding_dimension, embedding_time_delay = embedding_time_delay, window_size = 100,  stride = stride)\n",
    "\n",
    "# plots\n",
    "plot_diagram(diagrama)"
   ]
  },
  {
   "cell_type": "code",
   "execution_count": 6,
   "id": "64643edc",
   "metadata": {},
   "outputs": [
    {
     "data": {
      "application/vnd.plotly.v1+json": {
       "config": {
        "plotlyServerURL": "https://plot.ly"
       },
       "data": [
        {
         "marker": {
          "color": [
           0,
           1,
           2,
           3,
           4,
           5,
           6,
           7,
           8,
           9,
           10,
           11,
           12,
           13,
           14,
           15,
           16,
           17,
           18,
           19,
           20,
           21,
           22,
           23,
           24,
           25,
           26,
           27,
           28,
           29,
           30,
           31,
           32,
           33,
           34,
           35,
           36,
           37,
           38,
           39,
           40,
           41,
           42,
           43,
           44,
           45,
           46,
           47,
           48,
           49,
           50,
           51,
           52,
           53,
           54,
           55,
           56,
           57,
           58,
           59,
           60,
           61,
           62,
           63,
           64,
           65,
           66,
           67,
           68,
           69,
           70,
           71,
           72,
           73,
           74,
           75,
           76,
           77,
           78,
           79,
           80,
           81,
           82,
           83,
           84,
           85,
           86,
           87,
           88,
           89,
           90,
           91,
           92,
           93,
           94,
           95,
           96,
           97,
           98,
           99,
           100,
           101,
           102,
           103,
           104,
           105,
           106,
           107,
           108,
           109,
           110,
           111,
           112,
           113,
           114,
           115,
           116,
           117,
           118,
           119,
           120,
           121,
           122,
           123,
           124,
           125,
           126,
           127,
           128,
           129,
           130,
           131,
           132,
           133,
           134,
           135,
           136,
           137,
           138,
           139,
           140,
           141,
           142,
           143,
           144,
           145,
           146,
           147,
           148,
           149,
           150,
           151,
           152,
           153,
           154,
           155,
           156,
           157,
           158,
           159,
           160,
           161,
           162,
           163,
           164,
           165,
           166
          ],
          "colorscale": [
           [
            0,
            "#440154"
           ],
           [
            0.1111111111111111,
            "#482878"
           ],
           [
            0.2222222222222222,
            "#3e4989"
           ],
           [
            0.3333333333333333,
            "#31688e"
           ],
           [
            0.4444444444444444,
            "#26828e"
           ],
           [
            0.5555555555555556,
            "#1f9e89"
           ],
           [
            0.6666666666666666,
            "#35b779"
           ],
           [
            0.7777777777777778,
            "#6ece58"
           ],
           [
            0.8888888888888888,
            "#b5de2b"
           ],
           [
            1,
            "#fde725"
           ]
          ],
          "opacity": 0.8,
          "size": 4
         },
         "mode": "markers",
         "type": "scatter",
         "x": {
          "bdata": "IHzXe+QoH8AI0AVIgrUpwNddOr2BBDPAEorbYl1cLMCYYXJe2zsrwJs9LxICXifA9Xe78cc1GcCHcoSuXQXyP+EtJOR/Iry/aPx5ANGgEUCKG2Q5Tg0hQLFveC8LzS5AHFjyvqgQLEAwzJLWlsItQCLufP7OmixAbl3Is9CSKEBpXpaiQQUXQLlsfHqz8hRAKTw4mbxl6D8DGP9fjgUOwLANJi69HSLAbii2CUehMcDiHbo4C7MqwLk2tbiUvjjAVHeXrIl6NcA4wLaznUMnwPmbnbvY/iDAUfcViJ5OLcAKLF14CDEhwH6nMVAMkvq/nNxC1e0zIUA0J0I/IMwnQOz2ZHSE6TlAHbnFubafOEDx0MgMZvQ0QB001XXQmyhAT51yZ7xRIkAHDlNmGgIvQHYq9R8b4SFAaf13TrCF+D8Q/0G5YsMfwPfmEJTTdCbA+9wnw7pCNsAVyDl0VQ41wM/k+2VMISvAje5WNvsoJ8BUrSwlnNkgwBsT/9D7Li3ATqFWwT4gHsBAlsiGS1QSQLs6oKdiWiFAm+yAQ5USNUCVQiPH/so1QAQneDD6aDRAYiJYx/d/LEBfW9wCD4EoQAC+kFiGAzdAWJs8Up+DMECOc6U0q9sgQHXKUnqS1yrAoPfpuuZUM8DHbN+xBZEmwCoGe2HU0SrAK3+AkwNuNMADOfiSKvo1wI7KPQm7VTXAAySeEDK0IMAXXyjUrUoRwOWRFTVYbiBA9KkHwUxULkCZlaleIKk0QLQRmWiEBChAw+EiY9Y+LEByMRVk8KA2QFmBdUYU/jdAuQ3L2A9mKECfL5VW6AYiQIEg7LlL6RNAh68N894yG8BljP3qZOIpwIJfJI5ELiDAyZjEf/usJsAyXcYHzuAqwDDc9BkrVzfAOrLtX7prOMAfhLPz/PImwASE8N6ajiDA2k+4oOLi9T9tjfDERlMfQDVRWBYtHytA7KN+YcqmIUCdOFHzWyAoQDswMxJnnTdAzxniX844O0AbqgQIdzE8QLUyqylVyzBA8+ATY+J/IkBFPYGdcpATQJOsQtE3ZNk/cuwWIF06BEDkkD7Tl70TwKy90yXSwifA3lmtMIDvKsChJkabcWAswNfYWQaApDTAdxvXjMDQLMA2+2aj5uYawNXq59T7mBDA5IPIT1U41j/AHcPBvjnsvwqKhsFcCRxAKLagwfY7KEB7kGqrOlwsQM4o9abuxS1AIl9i4mOYMkBSL0iIzx0qQJGSXJRguyFAV3DJZ2o3E0A3emrKLYrTP+ctUmBXstI/KD9c6mTCH8CLg38KMeQmwA/YFrbq/SrAQz9Jxf4jNMCjdGUMklowwDX58r+C2yXAZth5quZCIMCX1Q9p3D8QwAkhv6zd5x/Arm9czV+69j8Xz786uWwlQDxI1qjZYThAD+ggWsXcOUC9P/8oFdc4QCzpPZrpRixASKq2Mz0NNkAxO4Y2gyUzQEcVttqbyyxAm667D1Zgyz+M+getmRoRwBcCmS0wdDTA/TPJDSPON8BWgV8xmck4wD9KQbUDYCzAEr3w8vrZKsAW2bP/tlg2wJ0tSZ3BBDPAqYjhw/6UK8Bd6ACFK/bgP2CLLM/tERRAkESushrmMkDTm3BHWtE1QBCvOSGMoTZAG/hlYTXFLUC3zDDz8jcsQASRPDXawTdAimzzXQr0M0DnoGMa+3MsQHvlaNT6WL8/LttT5vWzKsAZUHrxT64xwLCOaXbuPTTAJ8GtQegZK8AMdoWzW18swMiI5UDPqjvA/q0YwPu4OcA0v3bshjg1wA==",
          "dtype": "f8"
         },
         "y": {
          "bdata": "QMwMbR9MJ0B+UwHbNcsbQCh2ZkSrseu/M4piRTDF6D+T8DYDB+cLwOXgDh2Uhx3A6VywFgmvKsA8L/ZO/rIzwCM2y7dx4SrABAB73gXYKcCfb5QpyzgmwBbg8L09UBXARFzpEFu5EcDUJImLcM/Lv0y+waoCLBBAE/mZpNEVIEDkFxXAh54wQCS5AgeaSSpAGnWimzzpK0CqAMW99NgqQM0tbGBPwyVA8C8TkLkVE0A62hpf6p0TQBybERJYbiBArsgX4K5oAEDfOWfUttAdwGW9qEBTKSXAe41WfvEnOsDvUla6J9o4wNU82IToFTXAD6P8YAUgJsDSPAnw1zsgwIDw5pnn5i7AmdAExt6DIsCqsURyLAwBwAn+cJWcASBAaI1uQtY9JkC3tFpNVM03QGtHTkZ2cjZATodVU2zqMkCYXuvrkxonQFxGbm9hMSFAfI4uZiiwL0D9hEG8vEEiQFPcslASOg3AsnqTlokZHsDBZEhEPEQlwG+UnfN+2TTATdBZVTONM8ASOaYuPb8pwJmv3ecEBybA0nZ9pE6bNsDrPZlRwo8wwKUarOzWuyHAZDnjaWDVEEAjsc/V8SUgQNUj9FIKkjNAML2XNugaNEAbbq9PaLEyQIZGBeggJDRANJDt23qRM0C+fKIgRQ4hQMgdyX509xJAwx5gczsnH8AOB8hW/OstwKyh6rITpDTAjVUo0exeJcD641cIVWcpwFY6V7J9/TTAbMD1OlWuNsDNKtBfOx82wJwjZtI+6x/AE9xJx6q/EMCTtolbWfYfQLsDjhE/pCxAv/Qnjh5KIEByMeJKN3MmQH4HGESEdSpACQhDfYkBN0C913q/n204QEvRmioe6CZAY6eG7/3qIECecExg86MSQKsEgvfwrRvAieKzgTgoKcB4nRBJPKoewOGkF6JkeSXAeoqsdUetNcDxwAPUCos5wIWsnlL/4DrA0ffk51TUJcATKWjShaQfwF1t/CjSmvk/qY9eE7xCHkBks4Y2YKApQNHhDfzLmxNAGgLfv30cJkAn29ZZoYMqQBaGybLY7CtAIwcnksckNkAlKm0i8mUvQIZnXZO39R5Aj/y9mERQEkBwj3ojgvbVP+57tbDLdAZAN2LKrunAE8BatvXPN1kowKLeryqPgynAvRNZ0PTlKsDo8Qdl9awywIkEHGSAnCnA7h97IHhdH8A1QmluTRgQwInydr00Wcs/+hogmxOk8L8Cb2FdtFgcQFNZodq0pyZAgtcPCHuRKkDzcL8UDu0rQOK+Io1a5TBAOBaHEpMvJ0AnE6BU8KMgQD/XDgFp/BFAxNLZXDKFI0CQijkqkavkP2z72BtKAyHAXstA/qitJcAsBqQXR5EpwGbzyXXthTLASUtLACrGLcDdRUQv+4cjwA63HHe3eTDAIookVTJ/KMBRiRIi8i0bwI4CPF0pJhJAq0i1mY+sNUA72wvazSY5QBg8y0X4LzpAc4I3ZvzsK0CG2NYLn4oqQE4DPIJsrTZAjtMYIqLHM0BEGXe/Se8tQNRpSXiO28U/5WZEvwJCEMB3lqeyGjQzwHL1BcDgJDbAj0akvzDjNsBcrFRz0eUqwESUkGSifCnA71+AVTf9NsB+FUgpsZszwKO/jnvCjizAamsMt1G12D8LCT/D7nkSQLMQrVbC4DFAaRxxEFxzNECWqcQO6wo1QDSRX6ej7CtAr8X0eDaYO0CqmcAoaxc6QKNF2nbyDTZAgntVxy5UEUCJLac94KW1Pz33sOB4gCnAaSw+9J+qMMATJ05eFuwywA==",
          "dtype": "f8"
         }
        }
       ],
       "layout": {
        "height": 600,
        "plot_bgcolor": "white",
        "template": {
         "data": {
          "bar": [
           {
            "error_x": {
             "color": "#2a3f5f"
            },
            "error_y": {
             "color": "#2a3f5f"
            },
            "marker": {
             "line": {
              "color": "#E5ECF6",
              "width": 0.5
             },
             "pattern": {
              "fillmode": "overlay",
              "size": 10,
              "solidity": 0.2
             }
            },
            "type": "bar"
           }
          ],
          "barpolar": [
           {
            "marker": {
             "line": {
              "color": "#E5ECF6",
              "width": 0.5
             },
             "pattern": {
              "fillmode": "overlay",
              "size": 10,
              "solidity": 0.2
             }
            },
            "type": "barpolar"
           }
          ],
          "carpet": [
           {
            "aaxis": {
             "endlinecolor": "#2a3f5f",
             "gridcolor": "white",
             "linecolor": "white",
             "minorgridcolor": "white",
             "startlinecolor": "#2a3f5f"
            },
            "baxis": {
             "endlinecolor": "#2a3f5f",
             "gridcolor": "white",
             "linecolor": "white",
             "minorgridcolor": "white",
             "startlinecolor": "#2a3f5f"
            },
            "type": "carpet"
           }
          ],
          "choropleth": [
           {
            "colorbar": {
             "outlinewidth": 0,
             "ticks": ""
            },
            "type": "choropleth"
           }
          ],
          "contour": [
           {
            "colorbar": {
             "outlinewidth": 0,
             "ticks": ""
            },
            "colorscale": [
             [
              0,
              "#0d0887"
             ],
             [
              0.1111111111111111,
              "#46039f"
             ],
             [
              0.2222222222222222,
              "#7201a8"
             ],
             [
              0.3333333333333333,
              "#9c179e"
             ],
             [
              0.4444444444444444,
              "#bd3786"
             ],
             [
              0.5555555555555556,
              "#d8576b"
             ],
             [
              0.6666666666666666,
              "#ed7953"
             ],
             [
              0.7777777777777778,
              "#fb9f3a"
             ],
             [
              0.8888888888888888,
              "#fdca26"
             ],
             [
              1,
              "#f0f921"
             ]
            ],
            "type": "contour"
           }
          ],
          "contourcarpet": [
           {
            "colorbar": {
             "outlinewidth": 0,
             "ticks": ""
            },
            "type": "contourcarpet"
           }
          ],
          "heatmap": [
           {
            "colorbar": {
             "outlinewidth": 0,
             "ticks": ""
            },
            "colorscale": [
             [
              0,
              "#0d0887"
             ],
             [
              0.1111111111111111,
              "#46039f"
             ],
             [
              0.2222222222222222,
              "#7201a8"
             ],
             [
              0.3333333333333333,
              "#9c179e"
             ],
             [
              0.4444444444444444,
              "#bd3786"
             ],
             [
              0.5555555555555556,
              "#d8576b"
             ],
             [
              0.6666666666666666,
              "#ed7953"
             ],
             [
              0.7777777777777778,
              "#fb9f3a"
             ],
             [
              0.8888888888888888,
              "#fdca26"
             ],
             [
              1,
              "#f0f921"
             ]
            ],
            "type": "heatmap"
           }
          ],
          "histogram": [
           {
            "marker": {
             "pattern": {
              "fillmode": "overlay",
              "size": 10,
              "solidity": 0.2
             }
            },
            "type": "histogram"
           }
          ],
          "histogram2d": [
           {
            "colorbar": {
             "outlinewidth": 0,
             "ticks": ""
            },
            "colorscale": [
             [
              0,
              "#0d0887"
             ],
             [
              0.1111111111111111,
              "#46039f"
             ],
             [
              0.2222222222222222,
              "#7201a8"
             ],
             [
              0.3333333333333333,
              "#9c179e"
             ],
             [
              0.4444444444444444,
              "#bd3786"
             ],
             [
              0.5555555555555556,
              "#d8576b"
             ],
             [
              0.6666666666666666,
              "#ed7953"
             ],
             [
              0.7777777777777778,
              "#fb9f3a"
             ],
             [
              0.8888888888888888,
              "#fdca26"
             ],
             [
              1,
              "#f0f921"
             ]
            ],
            "type": "histogram2d"
           }
          ],
          "histogram2dcontour": [
           {
            "colorbar": {
             "outlinewidth": 0,
             "ticks": ""
            },
            "colorscale": [
             [
              0,
              "#0d0887"
             ],
             [
              0.1111111111111111,
              "#46039f"
             ],
             [
              0.2222222222222222,
              "#7201a8"
             ],
             [
              0.3333333333333333,
              "#9c179e"
             ],
             [
              0.4444444444444444,
              "#bd3786"
             ],
             [
              0.5555555555555556,
              "#d8576b"
             ],
             [
              0.6666666666666666,
              "#ed7953"
             ],
             [
              0.7777777777777778,
              "#fb9f3a"
             ],
             [
              0.8888888888888888,
              "#fdca26"
             ],
             [
              1,
              "#f0f921"
             ]
            ],
            "type": "histogram2dcontour"
           }
          ],
          "mesh3d": [
           {
            "colorbar": {
             "outlinewidth": 0,
             "ticks": ""
            },
            "type": "mesh3d"
           }
          ],
          "parcoords": [
           {
            "line": {
             "colorbar": {
              "outlinewidth": 0,
              "ticks": ""
             }
            },
            "type": "parcoords"
           }
          ],
          "pie": [
           {
            "automargin": true,
            "type": "pie"
           }
          ],
          "scatter": [
           {
            "fillpattern": {
             "fillmode": "overlay",
             "size": 10,
             "solidity": 0.2
            },
            "type": "scatter"
           }
          ],
          "scatter3d": [
           {
            "line": {
             "colorbar": {
              "outlinewidth": 0,
              "ticks": ""
             }
            },
            "marker": {
             "colorbar": {
              "outlinewidth": 0,
              "ticks": ""
             }
            },
            "type": "scatter3d"
           }
          ],
          "scattercarpet": [
           {
            "marker": {
             "colorbar": {
              "outlinewidth": 0,
              "ticks": ""
             }
            },
            "type": "scattercarpet"
           }
          ],
          "scattergeo": [
           {
            "marker": {
             "colorbar": {
              "outlinewidth": 0,
              "ticks": ""
             }
            },
            "type": "scattergeo"
           }
          ],
          "scattergl": [
           {
            "marker": {
             "colorbar": {
              "outlinewidth": 0,
              "ticks": ""
             }
            },
            "type": "scattergl"
           }
          ],
          "scattermap": [
           {
            "marker": {
             "colorbar": {
              "outlinewidth": 0,
              "ticks": ""
             }
            },
            "type": "scattermap"
           }
          ],
          "scattermapbox": [
           {
            "marker": {
             "colorbar": {
              "outlinewidth": 0,
              "ticks": ""
             }
            },
            "type": "scattermapbox"
           }
          ],
          "scatterpolar": [
           {
            "marker": {
             "colorbar": {
              "outlinewidth": 0,
              "ticks": ""
             }
            },
            "type": "scatterpolar"
           }
          ],
          "scatterpolargl": [
           {
            "marker": {
             "colorbar": {
              "outlinewidth": 0,
              "ticks": ""
             }
            },
            "type": "scatterpolargl"
           }
          ],
          "scatterternary": [
           {
            "marker": {
             "colorbar": {
              "outlinewidth": 0,
              "ticks": ""
             }
            },
            "type": "scatterternary"
           }
          ],
          "surface": [
           {
            "colorbar": {
             "outlinewidth": 0,
             "ticks": ""
            },
            "colorscale": [
             [
              0,
              "#0d0887"
             ],
             [
              0.1111111111111111,
              "#46039f"
             ],
             [
              0.2222222222222222,
              "#7201a8"
             ],
             [
              0.3333333333333333,
              "#9c179e"
             ],
             [
              0.4444444444444444,
              "#bd3786"
             ],
             [
              0.5555555555555556,
              "#d8576b"
             ],
             [
              0.6666666666666666,
              "#ed7953"
             ],
             [
              0.7777777777777778,
              "#fb9f3a"
             ],
             [
              0.8888888888888888,
              "#fdca26"
             ],
             [
              1,
              "#f0f921"
             ]
            ],
            "type": "surface"
           }
          ],
          "table": [
           {
            "cells": {
             "fill": {
              "color": "#EBF0F8"
             },
             "line": {
              "color": "white"
             }
            },
            "header": {
             "fill": {
              "color": "#C8D4E3"
             },
             "line": {
              "color": "white"
             }
            },
            "type": "table"
           }
          ]
         },
         "layout": {
          "annotationdefaults": {
           "arrowcolor": "#2a3f5f",
           "arrowhead": 0,
           "arrowwidth": 1
          },
          "autotypenumbers": "strict",
          "coloraxis": {
           "colorbar": {
            "outlinewidth": 0,
            "ticks": ""
           }
          },
          "colorscale": {
           "diverging": [
            [
             0,
             "#8e0152"
            ],
            [
             0.1,
             "#c51b7d"
            ],
            [
             0.2,
             "#de77ae"
            ],
            [
             0.3,
             "#f1b6da"
            ],
            [
             0.4,
             "#fde0ef"
            ],
            [
             0.5,
             "#f7f7f7"
            ],
            [
             0.6,
             "#e6f5d0"
            ],
            [
             0.7,
             "#b8e186"
            ],
            [
             0.8,
             "#7fbc41"
            ],
            [
             0.9,
             "#4d9221"
            ],
            [
             1,
             "#276419"
            ]
           ],
           "sequential": [
            [
             0,
             "#0d0887"
            ],
            [
             0.1111111111111111,
             "#46039f"
            ],
            [
             0.2222222222222222,
             "#7201a8"
            ],
            [
             0.3333333333333333,
             "#9c179e"
            ],
            [
             0.4444444444444444,
             "#bd3786"
            ],
            [
             0.5555555555555556,
             "#d8576b"
            ],
            [
             0.6666666666666666,
             "#ed7953"
            ],
            [
             0.7777777777777778,
             "#fb9f3a"
            ],
            [
             0.8888888888888888,
             "#fdca26"
            ],
            [
             1,
             "#f0f921"
            ]
           ],
           "sequentialminus": [
            [
             0,
             "#0d0887"
            ],
            [
             0.1111111111111111,
             "#46039f"
            ],
            [
             0.2222222222222222,
             "#7201a8"
            ],
            [
             0.3333333333333333,
             "#9c179e"
            ],
            [
             0.4444444444444444,
             "#bd3786"
            ],
            [
             0.5555555555555556,
             "#d8576b"
            ],
            [
             0.6666666666666666,
             "#ed7953"
            ],
            [
             0.7777777777777778,
             "#fb9f3a"
            ],
            [
             0.8888888888888888,
             "#fdca26"
            ],
            [
             1,
             "#f0f921"
            ]
           ]
          },
          "colorway": [
           "#636efa",
           "#EF553B",
           "#00cc96",
           "#ab63fa",
           "#FFA15A",
           "#19d3f3",
           "#FF6692",
           "#B6E880",
           "#FF97FF",
           "#FECB52"
          ],
          "font": {
           "color": "#2a3f5f"
          },
          "geo": {
           "bgcolor": "white",
           "lakecolor": "white",
           "landcolor": "#E5ECF6",
           "showlakes": true,
           "showland": true,
           "subunitcolor": "white"
          },
          "hoverlabel": {
           "align": "left"
          },
          "hovermode": "closest",
          "mapbox": {
           "style": "light"
          },
          "paper_bgcolor": "white",
          "plot_bgcolor": "#E5ECF6",
          "polar": {
           "angularaxis": {
            "gridcolor": "white",
            "linecolor": "white",
            "ticks": ""
           },
           "bgcolor": "#E5ECF6",
           "radialaxis": {
            "gridcolor": "white",
            "linecolor": "white",
            "ticks": ""
           }
          },
          "scene": {
           "xaxis": {
            "backgroundcolor": "#E5ECF6",
            "gridcolor": "white",
            "gridwidth": 2,
            "linecolor": "white",
            "showbackground": true,
            "ticks": "",
            "zerolinecolor": "white"
           },
           "yaxis": {
            "backgroundcolor": "#E5ECF6",
            "gridcolor": "white",
            "gridwidth": 2,
            "linecolor": "white",
            "showbackground": true,
            "ticks": "",
            "zerolinecolor": "white"
           },
           "zaxis": {
            "backgroundcolor": "#E5ECF6",
            "gridcolor": "white",
            "gridwidth": 2,
            "linecolor": "white",
            "showbackground": true,
            "ticks": "",
            "zerolinecolor": "white"
           }
          },
          "shapedefaults": {
           "line": {
            "color": "#2a3f5f"
           }
          },
          "ternary": {
           "aaxis": {
            "gridcolor": "white",
            "linecolor": "white",
            "ticks": ""
           },
           "baxis": {
            "gridcolor": "white",
            "linecolor": "white",
            "ticks": ""
           },
           "bgcolor": "#E5ECF6",
           "caxis": {
            "gridcolor": "white",
            "linecolor": "white",
            "ticks": ""
           }
          },
          "title": {
           "x": 0.05
          },
          "xaxis": {
           "automargin": true,
           "gridcolor": "white",
           "linecolor": "white",
           "ticks": "",
           "title": {
            "standoff": 15
           },
           "zerolinecolor": "white",
           "zerolinewidth": 2
          },
          "yaxis": {
           "automargin": true,
           "gridcolor": "white",
           "linecolor": "white",
           "ticks": "",
           "title": {
            "standoff": 15
           },
           "zerolinecolor": "white",
           "zerolinewidth": 2
          }
         }
        },
        "width": 600,
        "xaxis": {
         "anchor": "x",
         "exponentformat": "e",
         "linecolor": "black",
         "linewidth": 1,
         "mirror": false,
         "showexponent": "all",
         "showline": true,
         "side": "bottom",
         "ticks": "outside",
         "title": {
          "text": "0th"
         },
         "type": "linear",
         "zeroline": true
        },
        "yaxis": {
         "anchor": "y",
         "exponentformat": "e",
         "linecolor": "black",
         "linewidth": 1,
         "mirror": false,
         "showexponent": "all",
         "showline": true,
         "side": "left",
         "ticks": "outside",
         "title": {
          "text": "1st"
         },
         "type": "linear",
         "zeroline": true
        }
       }
      }
     },
     "metadata": {},
     "output_type": "display_data"
    }
   ],
   "source": [
    "plot_point_cloud(plot_cloud)"
   ]
  },
  {
   "cell_type": "markdown",
   "id": "a4f637c5",
   "metadata": {},
   "source": [
    "## Actividades para el 27 de Mayo 2025\n",
    "\n",
    "#### Objetivo:\n",
    "Realizar un estudio similar al de ondas gravitacionales, donde se tenian N series de tiempo y se clasificaron las series de tiempo que contenian eventos interesantes o no\n",
    "\n",
    "#### Pasos:\n",
    "1. Note que la clase `AnalisisTDA` está adaptada prácticamente para el caso univariado\n",
    "2. Modificar la clase `DatosAgricolas` para que acepte un parámetro que nos permita generar datos interesantes o no-interesantes\n",
    "3. Un serie interesante es aquella que contiene eventos con cambios de fase\n",
    "4. Hay varias opciones de conversión de los diagramas de persistencia a variables manejables. Modifique `AnalisisTDA` para que sea flexible a dichas opciones\n",
    "5. Explique por que es necesario hacer esta distinción entre una serie univariada y muchas series quizá multivariadas.\n",
    "6. Ya con las clases `AnalisisTDA` y `DatosAgricolas` cree N series de tiempo con y sin datos interesantes y clasifiquélas"
   ]
  }
 ],
 "metadata": {
  "kernelspec": {
   "display_name": "tda",
   "language": "python",
   "name": "python3"
  },
  "language_info": {
   "codemirror_mode": {
    "name": "ipython",
    "version": 3
   },
   "file_extension": ".py",
   "mimetype": "text/x-python",
   "name": "python",
   "nbconvert_exporter": "python",
   "pygments_lexer": "ipython3",
   "version": "3.10.17"
  }
 },
 "nbformat": 4,
 "nbformat_minor": 5
}
